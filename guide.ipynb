{
  "cells": [
    {
      "cell_type": "markdown",
      "id": "5c89b3de-16e5-5293-b281-f27aa6273ddd",
      "metadata": {
        "id": "5c89b3de-16e5-5293-b281-f27aa6273ddd"
      },
      "source": [
        "# Generating SQL for Postgres using OpenAI, ChromaDB\n",
        "This notebook runs through the process of using the `vanna` Python package to generate SQL using AI (RAG + LLMs) including connecting to a database and training. If you're not ready to train on your own database, you can still try it using a sample [SQLite database](app.md)."
      ]
    },
    {
      "cell_type": "markdown",
      "id": "ee059407-58ac-50fa-843a-7b876328df13",
      "metadata": {
        "id": "ee059407-58ac-50fa-843a-7b876328df13"
      },
      "source": [
        "## Setup"
      ]
    },
    {
      "cell_type": "code",
      "execution_count": 3,
      "id": "30b351fd-e454-5983-b4aa-a522759a1dbe",
      "metadata": {
        "id": "30b351fd-e454-5983-b4aa-a522759a1dbe"
      },
      "outputs": [],
      "source": [
        "# %pip install 'vanna[chromadb,openai,postgres]'"
      ]
    },
    {
      "cell_type": "code",
      "execution_count": 1,
      "id": "28a8d8a1-669f-5f8b-82c4-73a0eb221d64",
      "metadata": {
        "id": "28a8d8a1-669f-5f8b-82c4-73a0eb221d64"
      },
      "outputs": [],
      "source": [
        "\n",
        "from vanna.openai import OpenAI_Chat\n",
        "from vanna.chromadb import ChromaDB_VectorStore\n",
        "\n",
        "\n",
        "class MyVanna(ChromaDB_VectorStore, OpenAI_Chat):\n",
        "    def __init__(self, config=None):\n",
        "        ChromaDB_VectorStore.__init__(self, config=config)\n",
        "        OpenAI_Chat.__init__(self, config=config)\n",
        "from dotenv import load_dotenv, find_dotenv\n",
        "import os\n",
        "_ = load_dotenv(find_dotenv())\n",
        "vn = MyVanna(config={'api_key':  os.environ.get('OPENAI_API_KEY'), 'model': 'gpt-4o-mini'})\n",
        "vn.connect_to_postgres(host='localhost',dbname='dvdrental', port='5432', user='postgres', password='1122')\n"
      ]
    },
    {
      "cell_type": "code",
      "execution_count": 2,
      "id": "5fa6aa65",
      "metadata": {},
      "outputs": [
        {
          "name": "stderr",
          "output_type": "stream",
          "text": [
            "Add of existing embedding ID: 78eba354-54d8-5e4e-b45d-7aba82ec533c-sql\n",
            "Number of requested results 10 is greater than number of elements in index 2, updating n_results = 2\n"
          ]
        },
        {
          "name": "stdout",
          "output_type": "stream",
          "text": [
            "SQL Prompt: [{'role': 'system', 'content': \"You are a PostgreSQL expert. Please help to generate a SQL query to answer the question. Your response should ONLY be based on the given context and follow the response guidelines and format instructions. ===Response Guidelines \\n1. If the provided context is sufficient, please generate a valid SQL query without any explanations for the question. \\n2. If the provided context is almost sufficient but requires knowledge of a specific string in a particular column, please generate an intermediate SQL query to find the distinct strings in that column. Prepend the query with a comment saying intermediate_sql \\n3. If the provided context is insufficient, please explain why it can't be generated. \\n4. Please use the most relevant table(s). \\n5. If the question has been asked and answered before, please repeat the answer exactly as it was given before. \\n6. Ensure that the output SQL is PostgreSQL-compliant and executable, and free of syntax errors. \\n\"}, {'role': 'user', 'content': 'show me 10 actors'}, {'role': 'assistant', 'content': 'SELECT * FROM actor LIMIT 10;'}, {'role': 'user', 'content': 'read data from the actor table'}, {'role': 'assistant', 'content': 'SELECT * FROM actor;'}, {'role': 'user', 'content': 'show me 3 actors'}]\n",
            "Using model gpt-4o-mini for 265.75 tokens (approx)\n",
            "LLM Response: SELECT * FROM actor LIMIT 3;\n",
            "Extracted SQL: SELECT * FROM actor LIMIT 3;\n",
            "SELECT * FROM actor LIMIT 3;\n",
            "   actor_id first_name last_name             last_update\n",
            "0         1   Penelope   Guiness 2013-05-26 14:47:57.620\n",
            "1         2       Nick  Wahlberg 2013-05-26 14:47:57.620\n",
            "2         3         Ed     Chase 2013-05-26 14:47:57.620\n"
          ]
        },
        {
          "data": {
            "text/plain": [
              "('SELECT * FROM actor LIMIT 3;',\n",
              "    actor_id first_name last_name             last_update\n",
              " 0         1   Penelope   Guiness 2013-05-26 14:47:57.620\n",
              " 1         2       Nick  Wahlberg 2013-05-26 14:47:57.620\n",
              " 2         3         Ed     Chase 2013-05-26 14:47:57.620,\n",
              " None)"
            ]
          },
          "execution_count": 2,
          "metadata": {},
          "output_type": "execute_result"
        }
      ],
      "source": [
        "res = vn.ask('show me 3 actors',visualize=False)\n",
        "res"
      ]
    },
    {
      "cell_type": "markdown",
      "id": "f06c0e89-83f7-5ad1-8f6e-a64cf5bd8e60",
      "metadata": {
        "id": "f06c0e89-83f7-5ad1-8f6e-a64cf5bd8e60"
      },
      "source": [
        "## Training\n",
        "You only need to train once. Do not train again unless you want to add more training data."
      ]
    },
    {
      "cell_type": "code",
      "execution_count": 21,
      "id": "60418814",
      "metadata": {},
      "outputs": [],
      "source": [
        "\n",
        "# The information schema query may need some tweaking depending on your database. This is a good starting point.\n",
        "df_information_schema = vn.run_sql(\"SELECT * FROM INFORMATION_SCHEMA.COLUMNS WHERE table_schema='public'\")\n",
        "# df_information_schema = vn.run_sql(\"SELECT * FROM INFORMATION_SCHEMA.COLUMNS\")\n",
        "\n",
        "# This will break up the information schema into bite-sized chunks that can be referenced by the LLM\n",
        "plan = vn.get_training_plan_generic(df_information_schema)\n",
        "plan\n",
        "\n",
        "\n",
        "# If you like the plan, then uncomment this and run it to train\n",
        "vn.train(plan=plan)\n",
        "\n"
      ]
    },
    {
      "cell_type": "markdown",
      "id": "a0b35d6d",
      "metadata": {},
      "source": [
        "### Clean training data"
      ]
    },
    {
      "cell_type": "code",
      "execution_count": 12,
      "id": "fc0c1f2f",
      "metadata": {},
      "outputs": [
        {
          "data": {
            "text/html": [
              "<div>\n",
              "<style scoped>\n",
              "    .dataframe tbody tr th:only-of-type {\n",
              "        vertical-align: middle;\n",
              "    }\n",
              "\n",
              "    .dataframe tbody tr th {\n",
              "        vertical-align: top;\n",
              "    }\n",
              "\n",
              "    .dataframe thead th {\n",
              "        text-align: right;\n",
              "    }\n",
              "</style>\n",
              "<table border=\"1\" class=\"dataframe\">\n",
              "  <thead>\n",
              "    <tr style=\"text-align: right;\">\n",
              "      <th></th>\n",
              "      <th>id</th>\n",
              "      <th>question</th>\n",
              "      <th>content</th>\n",
              "      <th>training_data_type</th>\n",
              "    </tr>\n",
              "  </thead>\n",
              "  <tbody>\n",
              "  </tbody>\n",
              "</table>\n",
              "</div>"
            ],
            "text/plain": [
              "Empty DataFrame\n",
              "Columns: [id, question, content, training_data_type]\n",
              "Index: []"
            ]
          },
          "execution_count": 12,
          "metadata": {},
          "output_type": "execute_result"
        }
      ],
      "source": [
        "\n",
        "df = vn.get_training_data()\n",
        "# for i  in df['id']:\n",
        "#     vn.remove_training_data(i)\n",
        "# df"
      ]
    },
    {
      "cell_type": "markdown",
      "id": "4cbeea4f",
      "metadata": {},
      "source": [
        "## Quering"
      ]
    },
    {
      "cell_type": "code",
      "execution_count": 22,
      "id": "1dcc23aa",
      "metadata": {},
      "outputs": [
        {
          "name": "stderr",
          "output_type": "stream",
          "text": [
            "Number of requested results 10 is greater than number of elements in index 0, updating n_results = 0\n"
          ]
        },
        {
          "name": "stdout",
          "output_type": "stream",
          "text": [
            "SQL Prompt: [{'role': 'system', 'content': \"You are a PostgreSQL expert. Please help to generate a SQL query to answer the question. Your response should ONLY be based on the given context and follow the response guidelines and format instructions. \\n===Additional Context \\n\\nThe following columns are in the actor_info table in the dvdrental database:\\n\\n|     | table_catalog   | table_schema   | table_name   | column_name   | data_type         |\\n|----:|:----------------|:---------------|:-------------|:--------------|:------------------|\\n|   4 | dvdrental       | public         | actor_info   | film_info     | text              |\\n|   9 | dvdrental       | public         | actor_info   | actor_id      | integer           |\\n|  21 | dvdrental       | public         | actor_info   | last_name     | character varying |\\n| 126 | dvdrental       | public         | actor_info   | first_name    | character varying |\\n\\nThe following columns are in the actor table in the dvdrental database:\\n\\n|     | table_catalog   | table_schema   | table_name   | column_name   | data_type                   |\\n|----:|:----------------|:---------------|:-------------|:--------------|:----------------------------|\\n|   2 | dvdrental       | public         | actor        | last_name     | character varying           |\\n|  25 | dvdrental       | public         | actor        | last_update   | timestamp without time zone |\\n|  28 | dvdrental       | public         | actor        | actor_id      | integer                     |\\n| 112 | dvdrental       | public         | actor        | first_name    | character varying           |\\n\\nThe following columns are in the film_actor table in the dvdrental database:\\n\\n|    | table_catalog   | table_schema   | table_name   | column_name   | data_type                   |\\n|---:|:----------------|:---------------|:-------------|:--------------|:----------------------------|\\n| 43 | dvdrental       | public         | film_actor   | last_update   | timestamp without time zone |\\n| 57 | dvdrental       | public         | film_actor   | actor_id      | smallint                    |\\n| 67 | dvdrental       | public         | film_actor   | film_id       | smallint                    |\\n\\nThe following columns are in the film_list table in the dvdrental database:\\n\\n|     | table_catalog   | table_schema   | table_name   | column_name   | data_type         |\\n|----:|:----------------|:---------------|:-------------|:--------------|:------------------|\\n|  14 | dvdrental       | public         | film_list    | actors        | text              |\\n|  23 | dvdrental       | public         | film_list    | length        | smallint          |\\n|  39 | dvdrental       | public         | film_list    | fid           | integer           |\\n|  44 | dvdrental       | public         | film_list    | category      | character varying |\\n|  55 | dvdrental       | public         | film_list    | rating        | USER-DEFINED      |\\n|  61 | dvdrental       | public         | film_list    | description   | text              |\\n|  90 | dvdrental       | public         | film_list    | title         | character varying |\\n| 102 | dvdrental       | public         | film_list    | price         | numeric           |\\n\\nThe following columns are in the film_category table in the dvdrental database:\\n\\n|     | table_catalog   | table_schema   | table_name    | column_name   | data_type                   |\\n|----:|:----------------|:---------------|:--------------|:--------------|:----------------------------|\\n|  30 | dvdrental       | public         | film_category | category_id   | smallint                    |\\n| 111 | dvdrental       | public         | film_category | film_id       | smallint                    |\\n| 122 | dvdrental       | public         | film_category | last_update   | timestamp without time zone |\\n\\nThe following columns are in the film table in the dvdrental database:\\n\\n|     | table_catalog   | table_schema   | table_name   | column_name      | data_type                   |\\n|----:|:----------------|:---------------|:-------------|:-----------------|:----------------------------|\\n|  12 | dvdrental       | public         | film         | length           | smallint                    |\\n|  26 | dvdrental       | public         | film         | rental_duration  | smallint                    |\\n|  37 | dvdrental       | public         | film         | film_id          | integer                     |\\n|  45 | dvdrental       | public         | film         | release_year     | integer                     |\\n|  48 | dvdrental       | public         | film         | replacement_cost | numeric                     |\\n|  53 | dvdrental       | public         | film         | rental_rate      | numeric                     |\\n|  58 | dvdrental       | public         | film         | description      | text                        |\\n|  84 | dvdrental       | public         | film         | rating           | USER-DEFINED                |\\n|  85 | dvdrental       | public         | film         | special_features | ARRAY                       |\\n|  88 | dvdrental       | public         | film         | title            | character varying           |\\n|  93 | dvdrental       | public         | film         | last_update      | timestamp without time zone |\\n|  98 | dvdrental       | public         | film         | fulltext         | tsvector                    |\\n| 101 | dvdrental       | public         | film         | language_id      | smallint                    |\\n\\nThe following columns are in the staff table in the dvdrental database:\\n\\n|     | table_catalog   | table_schema   | table_name   | column_name   | data_type                   |\\n|----:|:----------------|:---------------|:-------------|:--------------|:----------------------------|\\n|  11 | dvdrental       | public         | staff        | username      | character varying           |\\n|  24 | dvdrental       | public         | staff        | store_id      | smallint                    |\\n|  38 | dvdrental       | public         | staff        | staff_id      | integer                     |\\n|  46 | dvdrental       | public         | staff        | address_id    | smallint                    |\\n|  49 | dvdrental       | public         | staff        | password      | character varying           |\\n|  54 | dvdrental       | public         | staff        | active        | boolean                     |\\n|  59 | dvdrental       | public         | staff        | last_name     | character varying           |\\n|  87 | dvdrental       | public         | staff        | last_update   | timestamp without time zone |\\n|  89 | dvdrental       | public         | staff        | first_name    | character varying           |\\n|  92 | dvdrental       | public         | staff        | picture       | bytea                       |\\n| 100 | dvdrental       | public         | staff        | email         | character varying           |\\n\\nThe following columns are in the customer_list table in the dvdrental database:\\n\\n|     | table_catalog   | table_schema   | table_name    | column_name   | data_type         |\\n|----:|:----------------|:---------------|:--------------|:--------------|:------------------|\\n|   3 | dvdrental       | public         | customer_list | address       | character varying |\\n|  10 | dvdrental       | public         | customer_list | sid           | smallint          |\\n|  17 | dvdrental       | public         | customer_list | country       | character varying |\\n|  22 | dvdrental       | public         | customer_list | zip code      | character varying |\\n|  29 | dvdrental       | public         | customer_list | id            | integer           |\\n|  47 | dvdrental       | public         | customer_list | city          | character varying |\\n|  50 | dvdrental       | public         | customer_list | notes         | text              |\\n|  97 | dvdrental       | public         | customer_list | phone         | character varying |\\n| 113 | dvdrental       | public         | customer_list | name          | text              |\\n\\nThe following columns are in the customer table in the dvdrental database:\\n\\n|     | table_catalog   | table_schema   | table_name   | column_name   | data_type                   |\\n|----:|:----------------|:---------------|:-------------|:--------------|:----------------------------|\\n|   6 | dvdrental       | public         | customer     | first_name    | character varying           |\\n|  13 | dvdrental       | public         | customer     | activebool    | boolean                     |\\n|  19 | dvdrental       | public         | customer     | last_update   | timestamp without time zone |\\n|  20 | dvdrental       | public         | customer     | last_name     | character varying           |\\n|  33 | dvdrental       | public         | customer     | customer_id   | integer                     |\\n|  40 | dvdrental       | public         | customer     | address_id    | smallint                    |\\n|  56 | dvdrental       | public         | customer     | create_date   | date                        |\\n|  94 | dvdrental       | public         | customer     | email         | character varying           |\\n| 109 | dvdrental       | public         | customer     | store_id      | smallint                    |\\n| 110 | dvdrental       | public         | customer     | active        | integer                     |\\n\\nThe following columns are in the sales_by_film_category table in the dvdrental database:\\n\\n|    | table_catalog   | table_schema   | table_name             | column_name   | data_type         |\\n|---:|:----------------|:---------------|:-----------------------|:--------------|:------------------|\\n| 64 | dvdrental       | public         | sales_by_film_category | total_sales   | numeric           |\\n| 77 | dvdrental       | public         | sales_by_film_category | category      | character varying |\\n\\n===Response Guidelines \\n1. If the provided context is sufficient, please generate a valid SQL query without any explanations for the question. \\n2. If the provided context is almost sufficient but requires knowledge of a specific string in a particular column, please generate an intermediate SQL query to find the distinct strings in that column. Prepend the query with a comment saying intermediate_sql \\n3. If the provided context is insufficient, please explain why it can't be generated. \\n4. Please use the most relevant table(s). \\n5. If the question has been asked and answered before, please repeat the answer exactly as it was given before. \\n6. Ensure that the output SQL is PostgreSQL-compliant and executable, and free of syntax errors. \\n\"}, {'role': 'user', 'content': 'show me 3 actors'}]\n",
            "Using model gpt-4o-mini for 2652.75 tokens (approx)\n",
            "LLM Response: ```sql\n",
            "SELECT first_name, last_name \n",
            "FROM actor \n",
            "LIMIT 3;\n",
            "```\n",
            "Extracted SQL: SELECT first_name, last_name \n",
            "FROM actor \n",
            "LIMIT 3;\n",
            "SELECT first_name, last_name \n",
            "FROM actor \n",
            "LIMIT 3;\n",
            "  first_name last_name\n",
            "0   Penelope   Guiness\n",
            "1       Nick  Wahlberg\n",
            "2         Ed     Chase\n"
          ]
        },
        {
          "data": {
            "text/plain": [
              "('SELECT first_name, last_name \\nFROM actor \\nLIMIT 3;',\n",
              "   first_name last_name\n",
              " 0   Penelope   Guiness\n",
              " 1       Nick  Wahlberg\n",
              " 2         Ed     Chase,\n",
              " None)"
            ]
          },
          "execution_count": 22,
          "metadata": {},
          "output_type": "execute_result"
        }
      ],
      "source": [
        "question = 'who is most famous actor'\n",
        "question = 'show me 3 actors'\n",
        "res = vn.ask(question=question, visualize=False)\n",
        "res"
      ]
    },
    {
      "cell_type": "markdown",
      "id": "6b65f30a",
      "metadata": {},
      "source": [
        "## generate summary:\n",
        "Natural Language Answer"
      ]
    },
    {
      "cell_type": "code",
      "execution_count": 24,
      "id": "71d0166b",
      "metadata": {},
      "outputs": [
        {
          "name": "stdout",
          "output_type": "stream",
          "text": [
            "Using model gpt-4o-mini for 115.75 tokens (approx)\n"
          ]
        },
        {
          "data": {
            "text/plain": [
              "'The data contains a list of 3 actors, including their first and last names: Penelope Guiness, Nick Wahlberg, and Ed Chase.'"
            ]
          },
          "execution_count": 24,
          "metadata": {},
          "output_type": "execute_result"
        }
      ],
      "source": [
        "vn.generate_summary(question=question, df=res[1])\n"
      ]
    },
    {
      "cell_type": "markdown",
      "id": "8e5ab9ee",
      "metadata": {},
      "source": [
        "## misc\n"
      ]
    },
    {
      "cell_type": "code",
      "execution_count": 6,
      "id": "7c421f88-42ea-567c-8581-3dcac96c36a3",
      "metadata": {
        "id": "7c421f88-42ea-567c-8581-3dcac96c36a3"
      },
      "outputs": [],
      "source": [
        "\n",
        "# # The following are methods for adding training data. Make sure you modify the examples to match your database.\n",
        "\n",
        "# # DDL statements are powerful because they specify table names, colume names, types, and potentially relationships\n",
        "# vn.train(ddl=\"\"\"\n",
        "#     CREATE TABLE IF NOT EXISTS my-table (\n",
        "#         id INT PRIMARY KEY,\n",
        "#         name VARCHAR(100),\n",
        "#         age INT\n",
        "#     )\n",
        "# \"\"\")\n",
        "\n",
        "# # Sometimes you may want to add documentation about your business terminology or definitions.\n",
        "# vn.train(documentation=\"Our business defines OTIF score as the percentage of orders that are delivered on time and in full\")\n",
        "\n",
        "# # You can also add SQL queries to your training data. This is useful if you have some queries already laying around. You can just copy and paste those from your editor to begin generating new SQL.\n",
        "# vn.train(sql=\"SELECT * FROM my-table WHERE name = 'John Doe'\")\n",
        "# # At any time you can inspect what training data the package is able to reference\n",
        "# training_data = vn.get_training_data()\n",
        "# training_data\n",
        "# # You can remove training data if there's obsolete/incorrect information.\n",
        "# vn.remove_training_data(id='1-ddl')\n"
      ]
    },
    {
      "cell_type": "code",
      "execution_count": 21,
      "id": "b24280bf",
      "metadata": {},
      "outputs": [
        {
          "name": "stderr",
          "output_type": "stream",
          "text": [
            "Number of requested results 10 is greater than number of elements in index 6, updating n_results = 6\n"
          ]
        },
        {
          "name": "stdout",
          "output_type": "stream",
          "text": [
            "Using model gpt-4o-mini for 2492.75 tokens (approx)\n"
          ]
        },
        {
          "name": "stderr",
          "output_type": "stream",
          "text": [
            "Insert of existing embedding ID: 75b0eabf-0456-503d-9672-09dc4d61dda9-sql\n",
            "Add of existing embedding ID: 75b0eabf-0456-503d-9672-09dc4d61dda9-sql\n"
          ]
        },
        {
          "name": "stdout",
          "output_type": "stream",
          "text": [
            "Extracted SQL: SELECT *\n",
            "FROM actor;\n",
            "('SELECT *\\nFROM actor;',      actor_id first_name     last_name             last_update\n",
            "0           1   Penelope       Guiness 2013-05-26 14:47:57.620\n",
            "1           2       Nick      Wahlberg 2013-05-26 14:47:57.620\n",
            "2           3         Ed         Chase 2013-05-26 14:47:57.620\n",
            "3           4   Jennifer         Davis 2013-05-26 14:47:57.620\n",
            "4           5     Johnny  Lollobrigida 2013-05-26 14:47:57.620\n",
            "..        ...        ...           ...                     ...\n",
            "195       196       Bela        Walken 2013-05-26 14:47:57.620\n",
            "196       197      Reese          West 2013-05-26 14:47:57.620\n",
            "197       198       Mary        Keitel 2013-05-26 14:47:57.620\n",
            "198       199      Julia       Fawcett 2013-05-26 14:47:57.620\n",
            "199       200      Thora        Temple 2013-05-26 14:47:57.620\n",
            "\n",
            "[200 rows x 4 columns], None)\n"
          ]
        }
      ],
      "source": [
        "\n",
        "from vanna.openai import OpenAI_Chat\n",
        "from vanna.chromadb import ChromaDB_VectorStore\n",
        "\n",
        "\n",
        "class MyVanna(ChromaDB_VectorStore, OpenAI_Chat):\n",
        "    def __init__(self, config=None):\n",
        "        ChromaDB_VectorStore.__init__(self, config=config)\n",
        "        OpenAI_Chat.__init__(self, config=config)\n",
        "\n",
        "vn = MyVanna(config={'api_key': 'sk-', 'model': 'gpt-4o-mini'})\n",
        "vn.connect_to_postgres(host='localhost',dbname='dvdrental', port='5432', user='postgres', password='1122')\n",
        "\n",
        "\n",
        "res = vn.ask(question='show me entries of actor table', visualize=False, print_results=False, )\n",
        "print(res)\n"
      ]
    },
    {
      "cell_type": "markdown",
      "id": "bf2fc121-a3ab-5a2e-95b0-383271e82d5f",
      "metadata": {
        "id": "bf2fc121-a3ab-5a2e-95b0-383271e82d5f"
      },
      "source": [
        "## Asking the AI\n",
        "Whenever you ask a new question, it will find the 10 most relevant pieces of training data and use it as part of the LLM prompt to generate the SQL."
      ]
    },
    {
      "cell_type": "code",
      "execution_count": 8,
      "id": "d33d59ce",
      "metadata": {},
      "outputs": [
        {
          "name": "stderr",
          "output_type": "stream",
          "text": [
            "Number of requested results 10 is greater than number of elements in index 4, updating n_results = 4\n"
          ]
        },
        {
          "name": "stdout",
          "output_type": "stream",
          "text": [
            "Using model gpt-4o-mini for 2406.25 tokens (approx)\n"
          ]
        },
        {
          "name": "stderr",
          "output_type": "stream",
          "text": [
            "Insert of existing embedding ID: 75b0eabf-0456-503d-9672-09dc4d61dda9-sql\n",
            "Add of existing embedding ID: 75b0eabf-0456-503d-9672-09dc4d61dda9-sql\n"
          ]
        },
        {
          "name": "stdout",
          "output_type": "stream",
          "text": [
            "Extracted SQL: SELECT *\n",
            "FROM actor;\n"
          ]
        },
        {
          "data": {
            "text/plain": [
              "('SELECT *\\nFROM actor;',\n",
              "      actor_id first_name     last_name             last_update\n",
              " 0           1   Penelope       Guiness 2013-05-26 14:47:57.620\n",
              " 1           2       Nick      Wahlberg 2013-05-26 14:47:57.620\n",
              " 2           3         Ed         Chase 2013-05-26 14:47:57.620\n",
              " 3           4   Jennifer         Davis 2013-05-26 14:47:57.620\n",
              " 4           5     Johnny  Lollobrigida 2013-05-26 14:47:57.620\n",
              " ..        ...        ...           ...                     ...\n",
              " 195       196       Bela        Walken 2013-05-26 14:47:57.620\n",
              " 196       197      Reese          West 2013-05-26 14:47:57.620\n",
              " 197       198       Mary        Keitel 2013-05-26 14:47:57.620\n",
              " 198       199      Julia       Fawcett 2013-05-26 14:47:57.620\n",
              " 199       200      Thora        Temple 2013-05-26 14:47:57.620\n",
              " \n",
              " [200 rows x 4 columns],\n",
              " None)"
            ]
          },
          "execution_count": 8,
          "metadata": {},
          "output_type": "execute_result"
        }
      ],
      "source": [
        "res = vn.ask(question='show me entries of actor table', visualize=False, print_results=False, )\n",
        "res\n"
      ]
    },
    {
      "cell_type": "code",
      "execution_count": 9,
      "id": "93292c2a",
      "metadata": {},
      "outputs": [
        {
          "name": "stdout",
          "output_type": "stream",
          "text": [
            "<class 'pandas.core.frame.DataFrame'>\n",
            "RangeIndex: 200 entries, 0 to 199\n",
            "Data columns (total 4 columns):\n",
            " #   Column       Non-Null Count  Dtype         \n",
            "---  ------       --------------  -----         \n",
            " 0   actor_id     200 non-null    int64         \n",
            " 1   first_name   200 non-null    object        \n",
            " 2   last_name    200 non-null    object        \n",
            " 3   last_update  200 non-null    datetime64[ns]\n",
            "dtypes: datetime64[ns](1), int64(1), object(2)\n",
            "memory usage: 6.4+ KB\n"
          ]
        }
      ],
      "source": [
        "res[1].info()"
      ]
    },
    {
      "cell_type": "code",
      "execution_count": 10,
      "id": "e80ae023",
      "metadata": {},
      "outputs": [],
      "source": [
        "\n",
        "from openai import OpenAI\n",
        "\n",
        "import os\n",
        "from dotenv import load_dotenv, find_dotenv\n",
        "\n",
        "_ = load_dotenv(find_dotenv())\n",
        "\n",
        "client = OpenAI(api_key=os.getenv('OPENAI_API_KEY'))\n",
        "\n",
        "def submit_prompt( prompt, **kwargs) -> str:\n",
        "    if prompt is None:\n",
        "        raise Exception(\"Prompt is None\")\n",
        "\n",
        "    if len(prompt) == 0:\n",
        "        raise Exception(\"Prompt is empty\")\n",
        "\n",
        "    # Count the number of tokens in the message log\n",
        "    # Use 4 as an approximation for the number of characters per token\n",
        "    num_tokens = 0\n",
        "    for message in prompt:\n",
        "        num_tokens += len(message[\"content\"]) / 4\n",
        "\n",
        "    if kwargs.get(\"model\", None) is not None:\n",
        "        model = kwargs.get(\"model\", None)\n",
        "        print(\n",
        "            f\"Using model {model} for {num_tokens} tokens (approx)\"\n",
        "        )\n",
        "        response = client.chat.completions.create(\n",
        "            model=model,\n",
        "            messages=prompt,\n",
        "            stop=None,\n",
        "            temperature=0,\n",
        "        )\n",
        "    else:\n",
        "        if num_tokens > 3500:\n",
        "            model = \"gpt-3.5-turbo-16k\"\n",
        "        else:\n",
        "            model = \"gpt-3.5-turbo\"\n",
        "\n",
        "        print(f\"Using model {model} for {num_tokens} tokens (approx)\")\n",
        "        response = client.chat.completions.create(\n",
        "            model=model,\n",
        "            messages=prompt,\n",
        "            stop=None,\n",
        "            temperature=0,\n",
        "        )\n",
        "\n",
        "    # Find the first response from the chatbot that has text in it (some responses may not have text)\n",
        "    for choice in response.choices:\n",
        "        if \"text\" in choice:\n",
        "            return choice.text\n",
        "\n",
        "    # If no response with text is found, return the first response's content (which may be empty)\n",
        "    return response.choices[0].message.content\n",
        "\n",
        "def system_message(message: str) -> any:\n",
        "    return {\"role\": \"system\", \"content\": message}\n",
        "\n",
        "def user_message(message: str) -> any:\n",
        "    return {\"role\": \"user\", \"content\": message}\n",
        "\n",
        "def _sanitize_plotly_code(raw_plotly_code: str) -> str:\n",
        "    # Remove the fig.show() statement from the plotly code\n",
        "    plotly_code = raw_plotly_code.replace(\"fig.show()\", \"\")\n",
        "\n",
        "    return plotly_code\n",
        "\n",
        "import re\n",
        "def _extract_python_code(markdown_string: str) -> str:\n",
        "    # Regex pattern to match Python code blocks\n",
        "    pattern = r\"```[\\w\\s]*python\\n([\\s\\S]*?)```|```([\\s\\S]*?)```\"\n",
        "\n",
        "    # Find all matches in the markdown string\n",
        "    matches = re.findall(pattern, markdown_string, re.IGNORECASE)\n",
        "\n",
        "    # Extract the Python code from the matches\n",
        "    python_code = []\n",
        "    for match in matches:\n",
        "        python = match[0] if match[0] else match[1]\n",
        "        python_code.append(python.strip())\n",
        "\n",
        "    if len(python_code) == 0:\n",
        "        return markdown_string\n",
        "\n",
        "    return python_code[0]\n",
        "\n",
        "\n",
        "def generate_plotly_code(\n",
        "    question: str = None, sql: str = None, df_metadata: str = None, **kwargs\n",
        ") -> str:\n",
        "    if question is not None:\n",
        "        system_msg = f\"The following is a pandas DataFrame that contains the results of the query that answers the question the user asked: '{question}'\"\n",
        "    else:\n",
        "        system_msg = \"The following is a pandas DataFrame \"\n",
        "\n",
        "    if sql is not None:\n",
        "        system_msg += f\"\\n\\nThe DataFrame was produced using this query: {sql}\\n\\n\"\n",
        "\n",
        "    system_msg += f\"The following is information about the resulting pandas DataFrame 'df': \\n{df_metadata}\"\n",
        "    print(system_message)\n",
        "    \n",
        "    message_log = [\n",
        "        system_message(system_msg),\n",
        "        user_message(\n",
        "            \"Can you generate the Python plotly code to chart the results of the dataframe? Assume the data is in a pandas dataframe called 'df'. If there is only one value in the dataframe, use an Indicator. Respond with only Python code. Do not answer with any explanations -- just the code.\"\n",
        "        ),\n",
        "    ]\n",
        "\n",
        "    plotly_code = submit_prompt(message_log, kwargs=kwargs)\n",
        "    # import pprint\n",
        "    # pprint.pprint(plotly_code)\n",
        "    return _sanitize_plotly_code(_extract_python_code(plotly_code))\n"
      ]
    },
    {
      "cell_type": "code",
      "execution_count": 11,
      "id": "f4a73199",
      "metadata": {},
      "outputs": [],
      "source": [
        "import pprint\n",
        "\n",
        "import pandas as pd\n",
        "import plotly\n",
        "import plotly.express as px\n",
        "import plotly.graph_objects as go\n",
        "\n",
        "def get_plotly_figure(\n",
        "    plotly_code: str, df: pd.DataFrame, dark_mode: bool = True\n",
        ") -> plotly.graph_objs.Figure:\n",
        "    \"\"\"\n",
        "    **Example:**\n",
        "    ```python\n",
        "    fig = vn.get_plotly_figure(\n",
        "        plotly_code=\"fig = px.bar(df, x='name', y='salary')\",\n",
        "        df=df\n",
        "    )\n",
        "    fig.show()\n",
        "    ```\n",
        "    Get a Plotly figure from a dataframe and Plotly code.\n",
        "\n",
        "    Args:\n",
        "        df (pd.DataFrame): The dataframe to use.\n",
        "        plotly_code (str): The Plotly code to use.\n",
        "\n",
        "    Returns:\n",
        "        plotly.graph_objs.Figure: The Plotly figure.\n",
        "    \"\"\"\n",
        "    ldict = {\"df\": df, \"px\": px, \"go\": go}\n",
        "    try:\n",
        "        exec(plotly_code, globals(), ldict)\n",
        "\n",
        "        fig = ldict.get(\"fig\", None)\n",
        "    except Exception as e:\n",
        "        # Inspect data types\n",
        "        numeric_cols = df.select_dtypes(include=[\"number\"]).columns.tolist()\n",
        "        categorical_cols = df.select_dtypes(\n",
        "            include=[\"object\", \"category\"]\n",
        "        ).columns.tolist()\n",
        "\n",
        "        # Decision-making for plot type\n",
        "        if len(numeric_cols) >= 2:\n",
        "            # Use the first two numeric columns for a scatter plot\n",
        "            fig = px.scatter(df, x=numeric_cols[0], y=numeric_cols[1])\n",
        "        elif len(numeric_cols) == 1 and len(categorical_cols) >= 1:\n",
        "            # Use a bar plot if there's one numeric and one categorical column\n",
        "            fig = px.bar(df, x=categorical_cols[0], y=numeric_cols[0])\n",
        "        elif len(categorical_cols) >= 1 and df[categorical_cols[0]].nunique() < 10:\n",
        "            # Use a pie chart for categorical data with fewer unique values\n",
        "            fig = px.pie(df, names=categorical_cols[0])\n",
        "        else:\n",
        "            # Default to a simple line plot if above conditions are not met\n",
        "            fig = px.line(df)\n",
        "\n",
        "    if fig is None:\n",
        "        return None\n",
        "\n",
        "    if dark_mode:\n",
        "        fig.update_layout(template=\"plotly_dark\")\n",
        "\n",
        "    return fig\n",
        "\n",
        "def ask(question:str):\n",
        "    res = vn.ask(question=question, visualize=False, print_results=False, )\n",
        "    # print('\\n printing res \\n: ')\n",
        "    # pprint.pp(res)\n",
        "    # print()\n",
        "    print('\\n \\n============');\n",
        "    print('query: \\n',res[0]);\n",
        "    print('-----------');\n",
        "    print('result: \\n',res[1]);\n",
        "    print('============');\n",
        "    plotly_code = generate_plotly_code(question=question, sql=res[0], df_metadata=f\"Running df.types gives: \\n {res[1].dtypes}\")\n",
        "    \n",
        "    fig = get_plotly_figure(plotly_code=plotly_code, df=res[1])\n",
        "    \n",
        "    return fig\n"
      ]
    },
    {
      "cell_type": "code",
      "execution_count": 12,
      "id": "71334c91",
      "metadata": {},
      "outputs": [],
      "source": [
        "question='show me 10 movies?'"
      ]
    },
    {
      "cell_type": "code",
      "execution_count": 13,
      "id": "50f3e627",
      "metadata": {},
      "outputs": [
        {
          "name": "stderr",
          "output_type": "stream",
          "text": [
            "Number of requested results 10 is greater than number of elements in index 4, updating n_results = 4\n"
          ]
        },
        {
          "name": "stdout",
          "output_type": "stream",
          "text": [
            "Using model gpt-4o-mini for 2588.25 tokens (approx)\n"
          ]
        },
        {
          "name": "stderr",
          "output_type": "stream",
          "text": [
            "Insert of existing embedding ID: 1f0d0d12-05db-5dd8-82a5-37a782d5c99f-sql\n",
            "Add of existing embedding ID: 1f0d0d12-05db-5dd8-82a5-37a782d5c99f-sql\n"
          ]
        },
        {
          "name": "stdout",
          "output_type": "stream",
          "text": [
            "Extracted SQL: SELECT title\n",
            "FROM film\n",
            "LIMIT 10;\n"
          ]
        },
        {
          "data": {
            "text/plain": [
              "('SELECT title\\nFROM film\\nLIMIT 10;',\n",
              "                title\n",
              " 0    Chamber Italian\n",
              " 1   Grosse Wonderful\n",
              " 2    Airport Pollock\n",
              " 3  Bright Encounters\n",
              " 4   Academy Dinosaur\n",
              " 5     Ace Goldfinger\n",
              " 6   Adaptation Holes\n",
              " 7   Affair Prejudice\n",
              " 8        African Egg\n",
              " 9       Agent Truman,\n",
              " None)"
            ]
          },
          "execution_count": 13,
          "metadata": {},
          "output_type": "execute_result"
        }
      ],
      "source": [
        "res = vn.ask(question=question, visualize=False, print_results=False, )\n",
        "res\n"
      ]
    },
    {
      "cell_type": "code",
      "execution_count": 14,
      "id": "b21f5a05",
      "metadata": {},
      "outputs": [
        {
          "name": "stdout",
          "output_type": "stream",
          "text": [
            "Using model gpt-4o-mini for 153.0 tokens (approx)\n"
          ]
        },
        {
          "data": {
            "application/vnd.plotly.v1+json": {
              "config": {
                "plotlyServerURL": "https://plot.ly"
              },
              "data": [
                {
                  "alignmentgroup": "True",
                  "hovertemplate": "title=%{x}<br>y=%{y}<extra></extra>",
                  "legendgroup": "",
                  "marker": {
                    "color": "#636efa",
                    "pattern": {
                      "shape": ""
                    }
                  },
                  "name": "",
                  "offsetgroup": "",
                  "orientation": "v",
                  "showlegend": false,
                  "textposition": "auto",
                  "type": "bar",
                  "x": [
                    "Chamber Italian",
                    "Grosse Wonderful",
                    "Airport Pollock",
                    "Bright Encounters",
                    "Academy Dinosaur",
                    "Ace Goldfinger",
                    "Adaptation Holes",
                    "Affair Prejudice",
                    "African Egg",
                    "Agent Truman"
                  ],
                  "xaxis": "x",
                  "y": [
                    1,
                    1,
                    1,
                    1,
                    1,
                    1,
                    1,
                    1,
                    1,
                    1
                  ],
                  "yaxis": "y"
                }
              ],
              "layout": {
                "barmode": "relative",
                "legend": {
                  "tracegroupgap": 0
                },
                "template": {
                  "data": {
                    "bar": [
                      {
                        "error_x": {
                          "color": "#2a3f5f"
                        },
                        "error_y": {
                          "color": "#2a3f5f"
                        },
                        "marker": {
                          "line": {
                            "color": "#E5ECF6",
                            "width": 0.5
                          },
                          "pattern": {
                            "fillmode": "overlay",
                            "size": 10,
                            "solidity": 0.2
                          }
                        },
                        "type": "bar"
                      }
                    ],
                    "barpolar": [
                      {
                        "marker": {
                          "line": {
                            "color": "#E5ECF6",
                            "width": 0.5
                          },
                          "pattern": {
                            "fillmode": "overlay",
                            "size": 10,
                            "solidity": 0.2
                          }
                        },
                        "type": "barpolar"
                      }
                    ],
                    "carpet": [
                      {
                        "aaxis": {
                          "endlinecolor": "#2a3f5f",
                          "gridcolor": "white",
                          "linecolor": "white",
                          "minorgridcolor": "white",
                          "startlinecolor": "#2a3f5f"
                        },
                        "baxis": {
                          "endlinecolor": "#2a3f5f",
                          "gridcolor": "white",
                          "linecolor": "white",
                          "minorgridcolor": "white",
                          "startlinecolor": "#2a3f5f"
                        },
                        "type": "carpet"
                      }
                    ],
                    "choropleth": [
                      {
                        "colorbar": {
                          "outlinewidth": 0,
                          "ticks": ""
                        },
                        "type": "choropleth"
                      }
                    ],
                    "contour": [
                      {
                        "colorbar": {
                          "outlinewidth": 0,
                          "ticks": ""
                        },
                        "colorscale": [
                          [
                            0,
                            "#0d0887"
                          ],
                          [
                            0.1111111111111111,
                            "#46039f"
                          ],
                          [
                            0.2222222222222222,
                            "#7201a8"
                          ],
                          [
                            0.3333333333333333,
                            "#9c179e"
                          ],
                          [
                            0.4444444444444444,
                            "#bd3786"
                          ],
                          [
                            0.5555555555555556,
                            "#d8576b"
                          ],
                          [
                            0.6666666666666666,
                            "#ed7953"
                          ],
                          [
                            0.7777777777777778,
                            "#fb9f3a"
                          ],
                          [
                            0.8888888888888888,
                            "#fdca26"
                          ],
                          [
                            1,
                            "#f0f921"
                          ]
                        ],
                        "type": "contour"
                      }
                    ],
                    "contourcarpet": [
                      {
                        "colorbar": {
                          "outlinewidth": 0,
                          "ticks": ""
                        },
                        "type": "contourcarpet"
                      }
                    ],
                    "heatmap": [
                      {
                        "colorbar": {
                          "outlinewidth": 0,
                          "ticks": ""
                        },
                        "colorscale": [
                          [
                            0,
                            "#0d0887"
                          ],
                          [
                            0.1111111111111111,
                            "#46039f"
                          ],
                          [
                            0.2222222222222222,
                            "#7201a8"
                          ],
                          [
                            0.3333333333333333,
                            "#9c179e"
                          ],
                          [
                            0.4444444444444444,
                            "#bd3786"
                          ],
                          [
                            0.5555555555555556,
                            "#d8576b"
                          ],
                          [
                            0.6666666666666666,
                            "#ed7953"
                          ],
                          [
                            0.7777777777777778,
                            "#fb9f3a"
                          ],
                          [
                            0.8888888888888888,
                            "#fdca26"
                          ],
                          [
                            1,
                            "#f0f921"
                          ]
                        ],
                        "type": "heatmap"
                      }
                    ],
                    "heatmapgl": [
                      {
                        "colorbar": {
                          "outlinewidth": 0,
                          "ticks": ""
                        },
                        "colorscale": [
                          [
                            0,
                            "#0d0887"
                          ],
                          [
                            0.1111111111111111,
                            "#46039f"
                          ],
                          [
                            0.2222222222222222,
                            "#7201a8"
                          ],
                          [
                            0.3333333333333333,
                            "#9c179e"
                          ],
                          [
                            0.4444444444444444,
                            "#bd3786"
                          ],
                          [
                            0.5555555555555556,
                            "#d8576b"
                          ],
                          [
                            0.6666666666666666,
                            "#ed7953"
                          ],
                          [
                            0.7777777777777778,
                            "#fb9f3a"
                          ],
                          [
                            0.8888888888888888,
                            "#fdca26"
                          ],
                          [
                            1,
                            "#f0f921"
                          ]
                        ],
                        "type": "heatmapgl"
                      }
                    ],
                    "histogram": [
                      {
                        "marker": {
                          "pattern": {
                            "fillmode": "overlay",
                            "size": 10,
                            "solidity": 0.2
                          }
                        },
                        "type": "histogram"
                      }
                    ],
                    "histogram2d": [
                      {
                        "colorbar": {
                          "outlinewidth": 0,
                          "ticks": ""
                        },
                        "colorscale": [
                          [
                            0,
                            "#0d0887"
                          ],
                          [
                            0.1111111111111111,
                            "#46039f"
                          ],
                          [
                            0.2222222222222222,
                            "#7201a8"
                          ],
                          [
                            0.3333333333333333,
                            "#9c179e"
                          ],
                          [
                            0.4444444444444444,
                            "#bd3786"
                          ],
                          [
                            0.5555555555555556,
                            "#d8576b"
                          ],
                          [
                            0.6666666666666666,
                            "#ed7953"
                          ],
                          [
                            0.7777777777777778,
                            "#fb9f3a"
                          ],
                          [
                            0.8888888888888888,
                            "#fdca26"
                          ],
                          [
                            1,
                            "#f0f921"
                          ]
                        ],
                        "type": "histogram2d"
                      }
                    ],
                    "histogram2dcontour": [
                      {
                        "colorbar": {
                          "outlinewidth": 0,
                          "ticks": ""
                        },
                        "colorscale": [
                          [
                            0,
                            "#0d0887"
                          ],
                          [
                            0.1111111111111111,
                            "#46039f"
                          ],
                          [
                            0.2222222222222222,
                            "#7201a8"
                          ],
                          [
                            0.3333333333333333,
                            "#9c179e"
                          ],
                          [
                            0.4444444444444444,
                            "#bd3786"
                          ],
                          [
                            0.5555555555555556,
                            "#d8576b"
                          ],
                          [
                            0.6666666666666666,
                            "#ed7953"
                          ],
                          [
                            0.7777777777777778,
                            "#fb9f3a"
                          ],
                          [
                            0.8888888888888888,
                            "#fdca26"
                          ],
                          [
                            1,
                            "#f0f921"
                          ]
                        ],
                        "type": "histogram2dcontour"
                      }
                    ],
                    "mesh3d": [
                      {
                        "colorbar": {
                          "outlinewidth": 0,
                          "ticks": ""
                        },
                        "type": "mesh3d"
                      }
                    ],
                    "parcoords": [
                      {
                        "line": {
                          "colorbar": {
                            "outlinewidth": 0,
                            "ticks": ""
                          }
                        },
                        "type": "parcoords"
                      }
                    ],
                    "pie": [
                      {
                        "automargin": true,
                        "type": "pie"
                      }
                    ],
                    "scatter": [
                      {
                        "fillpattern": {
                          "fillmode": "overlay",
                          "size": 10,
                          "solidity": 0.2
                        },
                        "type": "scatter"
                      }
                    ],
                    "scatter3d": [
                      {
                        "line": {
                          "colorbar": {
                            "outlinewidth": 0,
                            "ticks": ""
                          }
                        },
                        "marker": {
                          "colorbar": {
                            "outlinewidth": 0,
                            "ticks": ""
                          }
                        },
                        "type": "scatter3d"
                      }
                    ],
                    "scattercarpet": [
                      {
                        "marker": {
                          "colorbar": {
                            "outlinewidth": 0,
                            "ticks": ""
                          }
                        },
                        "type": "scattercarpet"
                      }
                    ],
                    "scattergeo": [
                      {
                        "marker": {
                          "colorbar": {
                            "outlinewidth": 0,
                            "ticks": ""
                          }
                        },
                        "type": "scattergeo"
                      }
                    ],
                    "scattergl": [
                      {
                        "marker": {
                          "colorbar": {
                            "outlinewidth": 0,
                            "ticks": ""
                          }
                        },
                        "type": "scattergl"
                      }
                    ],
                    "scattermapbox": [
                      {
                        "marker": {
                          "colorbar": {
                            "outlinewidth": 0,
                            "ticks": ""
                          }
                        },
                        "type": "scattermapbox"
                      }
                    ],
                    "scatterpolar": [
                      {
                        "marker": {
                          "colorbar": {
                            "outlinewidth": 0,
                            "ticks": ""
                          }
                        },
                        "type": "scatterpolar"
                      }
                    ],
                    "scatterpolargl": [
                      {
                        "marker": {
                          "colorbar": {
                            "outlinewidth": 0,
                            "ticks": ""
                          }
                        },
                        "type": "scatterpolargl"
                      }
                    ],
                    "scatterternary": [
                      {
                        "marker": {
                          "colorbar": {
                            "outlinewidth": 0,
                            "ticks": ""
                          }
                        },
                        "type": "scatterternary"
                      }
                    ],
                    "surface": [
                      {
                        "colorbar": {
                          "outlinewidth": 0,
                          "ticks": ""
                        },
                        "colorscale": [
                          [
                            0,
                            "#0d0887"
                          ],
                          [
                            0.1111111111111111,
                            "#46039f"
                          ],
                          [
                            0.2222222222222222,
                            "#7201a8"
                          ],
                          [
                            0.3333333333333333,
                            "#9c179e"
                          ],
                          [
                            0.4444444444444444,
                            "#bd3786"
                          ],
                          [
                            0.5555555555555556,
                            "#d8576b"
                          ],
                          [
                            0.6666666666666666,
                            "#ed7953"
                          ],
                          [
                            0.7777777777777778,
                            "#fb9f3a"
                          ],
                          [
                            0.8888888888888888,
                            "#fdca26"
                          ],
                          [
                            1,
                            "#f0f921"
                          ]
                        ],
                        "type": "surface"
                      }
                    ],
                    "table": [
                      {
                        "cells": {
                          "fill": {
                            "color": "#EBF0F8"
                          },
                          "line": {
                            "color": "white"
                          }
                        },
                        "header": {
                          "fill": {
                            "color": "#C8D4E3"
                          },
                          "line": {
                            "color": "white"
                          }
                        },
                        "type": "table"
                      }
                    ]
                  },
                  "layout": {
                    "annotationdefaults": {
                      "arrowcolor": "#2a3f5f",
                      "arrowhead": 0,
                      "arrowwidth": 1
                    },
                    "autotypenumbers": "strict",
                    "coloraxis": {
                      "colorbar": {
                        "outlinewidth": 0,
                        "ticks": ""
                      }
                    },
                    "colorscale": {
                      "diverging": [
                        [
                          0,
                          "#8e0152"
                        ],
                        [
                          0.1,
                          "#c51b7d"
                        ],
                        [
                          0.2,
                          "#de77ae"
                        ],
                        [
                          0.3,
                          "#f1b6da"
                        ],
                        [
                          0.4,
                          "#fde0ef"
                        ],
                        [
                          0.5,
                          "#f7f7f7"
                        ],
                        [
                          0.6,
                          "#e6f5d0"
                        ],
                        [
                          0.7,
                          "#b8e186"
                        ],
                        [
                          0.8,
                          "#7fbc41"
                        ],
                        [
                          0.9,
                          "#4d9221"
                        ],
                        [
                          1,
                          "#276419"
                        ]
                      ],
                      "sequential": [
                        [
                          0,
                          "#0d0887"
                        ],
                        [
                          0.1111111111111111,
                          "#46039f"
                        ],
                        [
                          0.2222222222222222,
                          "#7201a8"
                        ],
                        [
                          0.3333333333333333,
                          "#9c179e"
                        ],
                        [
                          0.4444444444444444,
                          "#bd3786"
                        ],
                        [
                          0.5555555555555556,
                          "#d8576b"
                        ],
                        [
                          0.6666666666666666,
                          "#ed7953"
                        ],
                        [
                          0.7777777777777778,
                          "#fb9f3a"
                        ],
                        [
                          0.8888888888888888,
                          "#fdca26"
                        ],
                        [
                          1,
                          "#f0f921"
                        ]
                      ],
                      "sequentialminus": [
                        [
                          0,
                          "#0d0887"
                        ],
                        [
                          0.1111111111111111,
                          "#46039f"
                        ],
                        [
                          0.2222222222222222,
                          "#7201a8"
                        ],
                        [
                          0.3333333333333333,
                          "#9c179e"
                        ],
                        [
                          0.4444444444444444,
                          "#bd3786"
                        ],
                        [
                          0.5555555555555556,
                          "#d8576b"
                        ],
                        [
                          0.6666666666666666,
                          "#ed7953"
                        ],
                        [
                          0.7777777777777778,
                          "#fb9f3a"
                        ],
                        [
                          0.8888888888888888,
                          "#fdca26"
                        ],
                        [
                          1,
                          "#f0f921"
                        ]
                      ]
                    },
                    "colorway": [
                      "#636efa",
                      "#EF553B",
                      "#00cc96",
                      "#ab63fa",
                      "#FFA15A",
                      "#19d3f3",
                      "#FF6692",
                      "#B6E880",
                      "#FF97FF",
                      "#FECB52"
                    ],
                    "font": {
                      "color": "#2a3f5f"
                    },
                    "geo": {
                      "bgcolor": "white",
                      "lakecolor": "white",
                      "landcolor": "#E5ECF6",
                      "showlakes": true,
                      "showland": true,
                      "subunitcolor": "white"
                    },
                    "hoverlabel": {
                      "align": "left"
                    },
                    "hovermode": "closest",
                    "mapbox": {
                      "style": "light"
                    },
                    "paper_bgcolor": "white",
                    "plot_bgcolor": "#E5ECF6",
                    "polar": {
                      "angularaxis": {
                        "gridcolor": "white",
                        "linecolor": "white",
                        "ticks": ""
                      },
                      "bgcolor": "#E5ECF6",
                      "radialaxis": {
                        "gridcolor": "white",
                        "linecolor": "white",
                        "ticks": ""
                      }
                    },
                    "scene": {
                      "xaxis": {
                        "backgroundcolor": "#E5ECF6",
                        "gridcolor": "white",
                        "gridwidth": 2,
                        "linecolor": "white",
                        "showbackground": true,
                        "ticks": "",
                        "zerolinecolor": "white"
                      },
                      "yaxis": {
                        "backgroundcolor": "#E5ECF6",
                        "gridcolor": "white",
                        "gridwidth": 2,
                        "linecolor": "white",
                        "showbackground": true,
                        "ticks": "",
                        "zerolinecolor": "white"
                      },
                      "zaxis": {
                        "backgroundcolor": "#E5ECF6",
                        "gridcolor": "white",
                        "gridwidth": 2,
                        "linecolor": "white",
                        "showbackground": true,
                        "ticks": "",
                        "zerolinecolor": "white"
                      }
                    },
                    "shapedefaults": {
                      "line": {
                        "color": "#2a3f5f"
                      }
                    },
                    "ternary": {
                      "aaxis": {
                        "gridcolor": "white",
                        "linecolor": "white",
                        "ticks": ""
                      },
                      "baxis": {
                        "gridcolor": "white",
                        "linecolor": "white",
                        "ticks": ""
                      },
                      "bgcolor": "#E5ECF6",
                      "caxis": {
                        "gridcolor": "white",
                        "linecolor": "white",
                        "ticks": ""
                      }
                    },
                    "title": {
                      "x": 0.05
                    },
                    "xaxis": {
                      "automargin": true,
                      "gridcolor": "white",
                      "linecolor": "white",
                      "ticks": "",
                      "title": {
                        "standoff": 15
                      },
                      "zerolinecolor": "white",
                      "zerolinewidth": 2
                    },
                    "yaxis": {
                      "automargin": true,
                      "gridcolor": "white",
                      "linecolor": "white",
                      "ticks": "",
                      "title": {
                        "standoff": 15
                      },
                      "zerolinecolor": "white",
                      "zerolinewidth": 2
                    }
                  }
                },
                "title": {
                  "text": "Top 10 Movies"
                },
                "xaxis": {
                  "anchor": "y",
                  "domain": [
                    0,
                    1
                  ],
                  "title": {
                    "text": "title"
                  }
                },
                "yaxis": {
                  "anchor": "x",
                  "domain": [
                    0,
                    1
                  ],
                  "showticklabels": false,
                  "title": {
                    "text": "y"
                  }
                }
              }
            }
          },
          "metadata": {},
          "output_type": "display_data"
        }
      ],
      "source": [
        "df = res[1]\n",
        "plotly_code = vn.generate_plotly_code(question=question,sql=res[0],df_metadata=f'df.dtypes = {df.dtypes}')\n",
        "vn.get_plotly_figure(plotly_code=plotly_code,df=df,dark_mode=False)"
      ]
    },
    {
      "cell_type": "code",
      "execution_count": 15,
      "id": "2246f457",
      "metadata": {},
      "outputs": [
        {
          "name": "stderr",
          "output_type": "stream",
          "text": [
            "Number of requested results 10 is greater than number of elements in index 4, updating n_results = 4\n"
          ]
        },
        {
          "name": "stdout",
          "output_type": "stream",
          "text": [
            "Using model gpt-4o-mini for 2711.25 tokens (approx)\n"
          ]
        },
        {
          "name": "stderr",
          "output_type": "stream",
          "text": [
            "Insert of existing embedding ID: a8ab41a9-5a55-50e3-8f25-9dd925345e6a-sql\n",
            "Add of existing embedding ID: a8ab41a9-5a55-50e3-8f25-9dd925345e6a-sql\n"
          ]
        },
        {
          "name": "stdout",
          "output_type": "stream",
          "text": [
            "Extracted SQL: SELECT title\n",
            "FROM film\n",
            "LIMIT 10;\n",
            "\n",
            " \n",
            "============\n",
            "query: \n",
            " SELECT title\n",
            "FROM film\n",
            "LIMIT 10;\n",
            "-----------\n",
            "result: \n",
            "                title\n",
            "0    Chamber Italian\n",
            "1   Grosse Wonderful\n",
            "2    Airport Pollock\n",
            "3  Bright Encounters\n",
            "4   Academy Dinosaur\n",
            "5     Ace Goldfinger\n",
            "6   Adaptation Holes\n",
            "7   Affair Prejudice\n",
            "8        African Egg\n",
            "9       Agent Truman\n",
            "============\n",
            "<function system_message at 0x000001FC5ECE9260>\n",
            "Using model gpt-3.5-turbo for 156.25 tokens (approx)\n"
          ]
        },
        {
          "data": {
            "application/vnd.plotly.v1+json": {
              "config": {
                "plotlyServerURL": "https://plot.ly"
              },
              "data": [
                {
                  "alignmentgroup": "True",
                  "hovertemplate": "title=%{x}<br>count=%{y}<extra></extra>",
                  "legendgroup": "",
                  "marker": {
                    "color": "#636efa",
                    "pattern": {
                      "shape": ""
                    }
                  },
                  "name": "",
                  "offsetgroup": "",
                  "orientation": "v",
                  "showlegend": false,
                  "textposition": "auto",
                  "type": "bar",
                  "x": [
                    "Chamber Italian",
                    "Grosse Wonderful",
                    "Airport Pollock",
                    "Bright Encounters",
                    "Academy Dinosaur",
                    "Ace Goldfinger",
                    "Adaptation Holes",
                    "Affair Prejudice",
                    "African Egg",
                    "Agent Truman"
                  ],
                  "xaxis": "x",
                  "y": [
                    1,
                    1,
                    1,
                    1,
                    1,
                    1,
                    1,
                    1,
                    1,
                    1
                  ],
                  "yaxis": "y"
                }
              ],
              "layout": {
                "barmode": "relative",
                "legend": {
                  "tracegroupgap": 0
                },
                "template": {
                  "data": {
                    "bar": [
                      {
                        "error_x": {
                          "color": "#f2f5fa"
                        },
                        "error_y": {
                          "color": "#f2f5fa"
                        },
                        "marker": {
                          "line": {
                            "color": "rgb(17,17,17)",
                            "width": 0.5
                          },
                          "pattern": {
                            "fillmode": "overlay",
                            "size": 10,
                            "solidity": 0.2
                          }
                        },
                        "type": "bar"
                      }
                    ],
                    "barpolar": [
                      {
                        "marker": {
                          "line": {
                            "color": "rgb(17,17,17)",
                            "width": 0.5
                          },
                          "pattern": {
                            "fillmode": "overlay",
                            "size": 10,
                            "solidity": 0.2
                          }
                        },
                        "type": "barpolar"
                      }
                    ],
                    "carpet": [
                      {
                        "aaxis": {
                          "endlinecolor": "#A2B1C6",
                          "gridcolor": "#506784",
                          "linecolor": "#506784",
                          "minorgridcolor": "#506784",
                          "startlinecolor": "#A2B1C6"
                        },
                        "baxis": {
                          "endlinecolor": "#A2B1C6",
                          "gridcolor": "#506784",
                          "linecolor": "#506784",
                          "minorgridcolor": "#506784",
                          "startlinecolor": "#A2B1C6"
                        },
                        "type": "carpet"
                      }
                    ],
                    "choropleth": [
                      {
                        "colorbar": {
                          "outlinewidth": 0,
                          "ticks": ""
                        },
                        "type": "choropleth"
                      }
                    ],
                    "contour": [
                      {
                        "colorbar": {
                          "outlinewidth": 0,
                          "ticks": ""
                        },
                        "colorscale": [
                          [
                            0,
                            "#0d0887"
                          ],
                          [
                            0.1111111111111111,
                            "#46039f"
                          ],
                          [
                            0.2222222222222222,
                            "#7201a8"
                          ],
                          [
                            0.3333333333333333,
                            "#9c179e"
                          ],
                          [
                            0.4444444444444444,
                            "#bd3786"
                          ],
                          [
                            0.5555555555555556,
                            "#d8576b"
                          ],
                          [
                            0.6666666666666666,
                            "#ed7953"
                          ],
                          [
                            0.7777777777777778,
                            "#fb9f3a"
                          ],
                          [
                            0.8888888888888888,
                            "#fdca26"
                          ],
                          [
                            1,
                            "#f0f921"
                          ]
                        ],
                        "type": "contour"
                      }
                    ],
                    "contourcarpet": [
                      {
                        "colorbar": {
                          "outlinewidth": 0,
                          "ticks": ""
                        },
                        "type": "contourcarpet"
                      }
                    ],
                    "heatmap": [
                      {
                        "colorbar": {
                          "outlinewidth": 0,
                          "ticks": ""
                        },
                        "colorscale": [
                          [
                            0,
                            "#0d0887"
                          ],
                          [
                            0.1111111111111111,
                            "#46039f"
                          ],
                          [
                            0.2222222222222222,
                            "#7201a8"
                          ],
                          [
                            0.3333333333333333,
                            "#9c179e"
                          ],
                          [
                            0.4444444444444444,
                            "#bd3786"
                          ],
                          [
                            0.5555555555555556,
                            "#d8576b"
                          ],
                          [
                            0.6666666666666666,
                            "#ed7953"
                          ],
                          [
                            0.7777777777777778,
                            "#fb9f3a"
                          ],
                          [
                            0.8888888888888888,
                            "#fdca26"
                          ],
                          [
                            1,
                            "#f0f921"
                          ]
                        ],
                        "type": "heatmap"
                      }
                    ],
                    "heatmapgl": [
                      {
                        "colorbar": {
                          "outlinewidth": 0,
                          "ticks": ""
                        },
                        "colorscale": [
                          [
                            0,
                            "#0d0887"
                          ],
                          [
                            0.1111111111111111,
                            "#46039f"
                          ],
                          [
                            0.2222222222222222,
                            "#7201a8"
                          ],
                          [
                            0.3333333333333333,
                            "#9c179e"
                          ],
                          [
                            0.4444444444444444,
                            "#bd3786"
                          ],
                          [
                            0.5555555555555556,
                            "#d8576b"
                          ],
                          [
                            0.6666666666666666,
                            "#ed7953"
                          ],
                          [
                            0.7777777777777778,
                            "#fb9f3a"
                          ],
                          [
                            0.8888888888888888,
                            "#fdca26"
                          ],
                          [
                            1,
                            "#f0f921"
                          ]
                        ],
                        "type": "heatmapgl"
                      }
                    ],
                    "histogram": [
                      {
                        "marker": {
                          "pattern": {
                            "fillmode": "overlay",
                            "size": 10,
                            "solidity": 0.2
                          }
                        },
                        "type": "histogram"
                      }
                    ],
                    "histogram2d": [
                      {
                        "colorbar": {
                          "outlinewidth": 0,
                          "ticks": ""
                        },
                        "colorscale": [
                          [
                            0,
                            "#0d0887"
                          ],
                          [
                            0.1111111111111111,
                            "#46039f"
                          ],
                          [
                            0.2222222222222222,
                            "#7201a8"
                          ],
                          [
                            0.3333333333333333,
                            "#9c179e"
                          ],
                          [
                            0.4444444444444444,
                            "#bd3786"
                          ],
                          [
                            0.5555555555555556,
                            "#d8576b"
                          ],
                          [
                            0.6666666666666666,
                            "#ed7953"
                          ],
                          [
                            0.7777777777777778,
                            "#fb9f3a"
                          ],
                          [
                            0.8888888888888888,
                            "#fdca26"
                          ],
                          [
                            1,
                            "#f0f921"
                          ]
                        ],
                        "type": "histogram2d"
                      }
                    ],
                    "histogram2dcontour": [
                      {
                        "colorbar": {
                          "outlinewidth": 0,
                          "ticks": ""
                        },
                        "colorscale": [
                          [
                            0,
                            "#0d0887"
                          ],
                          [
                            0.1111111111111111,
                            "#46039f"
                          ],
                          [
                            0.2222222222222222,
                            "#7201a8"
                          ],
                          [
                            0.3333333333333333,
                            "#9c179e"
                          ],
                          [
                            0.4444444444444444,
                            "#bd3786"
                          ],
                          [
                            0.5555555555555556,
                            "#d8576b"
                          ],
                          [
                            0.6666666666666666,
                            "#ed7953"
                          ],
                          [
                            0.7777777777777778,
                            "#fb9f3a"
                          ],
                          [
                            0.8888888888888888,
                            "#fdca26"
                          ],
                          [
                            1,
                            "#f0f921"
                          ]
                        ],
                        "type": "histogram2dcontour"
                      }
                    ],
                    "mesh3d": [
                      {
                        "colorbar": {
                          "outlinewidth": 0,
                          "ticks": ""
                        },
                        "type": "mesh3d"
                      }
                    ],
                    "parcoords": [
                      {
                        "line": {
                          "colorbar": {
                            "outlinewidth": 0,
                            "ticks": ""
                          }
                        },
                        "type": "parcoords"
                      }
                    ],
                    "pie": [
                      {
                        "automargin": true,
                        "type": "pie"
                      }
                    ],
                    "scatter": [
                      {
                        "marker": {
                          "line": {
                            "color": "#283442"
                          }
                        },
                        "type": "scatter"
                      }
                    ],
                    "scatter3d": [
                      {
                        "line": {
                          "colorbar": {
                            "outlinewidth": 0,
                            "ticks": ""
                          }
                        },
                        "marker": {
                          "colorbar": {
                            "outlinewidth": 0,
                            "ticks": ""
                          }
                        },
                        "type": "scatter3d"
                      }
                    ],
                    "scattercarpet": [
                      {
                        "marker": {
                          "colorbar": {
                            "outlinewidth": 0,
                            "ticks": ""
                          }
                        },
                        "type": "scattercarpet"
                      }
                    ],
                    "scattergeo": [
                      {
                        "marker": {
                          "colorbar": {
                            "outlinewidth": 0,
                            "ticks": ""
                          }
                        },
                        "type": "scattergeo"
                      }
                    ],
                    "scattergl": [
                      {
                        "marker": {
                          "line": {
                            "color": "#283442"
                          }
                        },
                        "type": "scattergl"
                      }
                    ],
                    "scattermapbox": [
                      {
                        "marker": {
                          "colorbar": {
                            "outlinewidth": 0,
                            "ticks": ""
                          }
                        },
                        "type": "scattermapbox"
                      }
                    ],
                    "scatterpolar": [
                      {
                        "marker": {
                          "colorbar": {
                            "outlinewidth": 0,
                            "ticks": ""
                          }
                        },
                        "type": "scatterpolar"
                      }
                    ],
                    "scatterpolargl": [
                      {
                        "marker": {
                          "colorbar": {
                            "outlinewidth": 0,
                            "ticks": ""
                          }
                        },
                        "type": "scatterpolargl"
                      }
                    ],
                    "scatterternary": [
                      {
                        "marker": {
                          "colorbar": {
                            "outlinewidth": 0,
                            "ticks": ""
                          }
                        },
                        "type": "scatterternary"
                      }
                    ],
                    "surface": [
                      {
                        "colorbar": {
                          "outlinewidth": 0,
                          "ticks": ""
                        },
                        "colorscale": [
                          [
                            0,
                            "#0d0887"
                          ],
                          [
                            0.1111111111111111,
                            "#46039f"
                          ],
                          [
                            0.2222222222222222,
                            "#7201a8"
                          ],
                          [
                            0.3333333333333333,
                            "#9c179e"
                          ],
                          [
                            0.4444444444444444,
                            "#bd3786"
                          ],
                          [
                            0.5555555555555556,
                            "#d8576b"
                          ],
                          [
                            0.6666666666666666,
                            "#ed7953"
                          ],
                          [
                            0.7777777777777778,
                            "#fb9f3a"
                          ],
                          [
                            0.8888888888888888,
                            "#fdca26"
                          ],
                          [
                            1,
                            "#f0f921"
                          ]
                        ],
                        "type": "surface"
                      }
                    ],
                    "table": [
                      {
                        "cells": {
                          "fill": {
                            "color": "#506784"
                          },
                          "line": {
                            "color": "rgb(17,17,17)"
                          }
                        },
                        "header": {
                          "fill": {
                            "color": "#2a3f5f"
                          },
                          "line": {
                            "color": "rgb(17,17,17)"
                          }
                        },
                        "type": "table"
                      }
                    ]
                  },
                  "layout": {
                    "annotationdefaults": {
                      "arrowcolor": "#f2f5fa",
                      "arrowhead": 0,
                      "arrowwidth": 1
                    },
                    "autotypenumbers": "strict",
                    "coloraxis": {
                      "colorbar": {
                        "outlinewidth": 0,
                        "ticks": ""
                      }
                    },
                    "colorscale": {
                      "diverging": [
                        [
                          0,
                          "#8e0152"
                        ],
                        [
                          0.1,
                          "#c51b7d"
                        ],
                        [
                          0.2,
                          "#de77ae"
                        ],
                        [
                          0.3,
                          "#f1b6da"
                        ],
                        [
                          0.4,
                          "#fde0ef"
                        ],
                        [
                          0.5,
                          "#f7f7f7"
                        ],
                        [
                          0.6,
                          "#e6f5d0"
                        ],
                        [
                          0.7,
                          "#b8e186"
                        ],
                        [
                          0.8,
                          "#7fbc41"
                        ],
                        [
                          0.9,
                          "#4d9221"
                        ],
                        [
                          1,
                          "#276419"
                        ]
                      ],
                      "sequential": [
                        [
                          0,
                          "#0d0887"
                        ],
                        [
                          0.1111111111111111,
                          "#46039f"
                        ],
                        [
                          0.2222222222222222,
                          "#7201a8"
                        ],
                        [
                          0.3333333333333333,
                          "#9c179e"
                        ],
                        [
                          0.4444444444444444,
                          "#bd3786"
                        ],
                        [
                          0.5555555555555556,
                          "#d8576b"
                        ],
                        [
                          0.6666666666666666,
                          "#ed7953"
                        ],
                        [
                          0.7777777777777778,
                          "#fb9f3a"
                        ],
                        [
                          0.8888888888888888,
                          "#fdca26"
                        ],
                        [
                          1,
                          "#f0f921"
                        ]
                      ],
                      "sequentialminus": [
                        [
                          0,
                          "#0d0887"
                        ],
                        [
                          0.1111111111111111,
                          "#46039f"
                        ],
                        [
                          0.2222222222222222,
                          "#7201a8"
                        ],
                        [
                          0.3333333333333333,
                          "#9c179e"
                        ],
                        [
                          0.4444444444444444,
                          "#bd3786"
                        ],
                        [
                          0.5555555555555556,
                          "#d8576b"
                        ],
                        [
                          0.6666666666666666,
                          "#ed7953"
                        ],
                        [
                          0.7777777777777778,
                          "#fb9f3a"
                        ],
                        [
                          0.8888888888888888,
                          "#fdca26"
                        ],
                        [
                          1,
                          "#f0f921"
                        ]
                      ]
                    },
                    "colorway": [
                      "#636efa",
                      "#EF553B",
                      "#00cc96",
                      "#ab63fa",
                      "#FFA15A",
                      "#19d3f3",
                      "#FF6692",
                      "#B6E880",
                      "#FF97FF",
                      "#FECB52"
                    ],
                    "font": {
                      "color": "#f2f5fa"
                    },
                    "geo": {
                      "bgcolor": "rgb(17,17,17)",
                      "lakecolor": "rgb(17,17,17)",
                      "landcolor": "rgb(17,17,17)",
                      "showlakes": true,
                      "showland": true,
                      "subunitcolor": "#506784"
                    },
                    "hoverlabel": {
                      "align": "left"
                    },
                    "hovermode": "closest",
                    "mapbox": {
                      "style": "dark"
                    },
                    "paper_bgcolor": "rgb(17,17,17)",
                    "plot_bgcolor": "rgb(17,17,17)",
                    "polar": {
                      "angularaxis": {
                        "gridcolor": "#506784",
                        "linecolor": "#506784",
                        "ticks": ""
                      },
                      "bgcolor": "rgb(17,17,17)",
                      "radialaxis": {
                        "gridcolor": "#506784",
                        "linecolor": "#506784",
                        "ticks": ""
                      }
                    },
                    "scene": {
                      "xaxis": {
                        "backgroundcolor": "rgb(17,17,17)",
                        "gridcolor": "#506784",
                        "gridwidth": 2,
                        "linecolor": "#506784",
                        "showbackground": true,
                        "ticks": "",
                        "zerolinecolor": "#C8D4E3"
                      },
                      "yaxis": {
                        "backgroundcolor": "rgb(17,17,17)",
                        "gridcolor": "#506784",
                        "gridwidth": 2,
                        "linecolor": "#506784",
                        "showbackground": true,
                        "ticks": "",
                        "zerolinecolor": "#C8D4E3"
                      },
                      "zaxis": {
                        "backgroundcolor": "rgb(17,17,17)",
                        "gridcolor": "#506784",
                        "gridwidth": 2,
                        "linecolor": "#506784",
                        "showbackground": true,
                        "ticks": "",
                        "zerolinecolor": "#C8D4E3"
                      }
                    },
                    "shapedefaults": {
                      "line": {
                        "color": "#f2f5fa"
                      }
                    },
                    "sliderdefaults": {
                      "bgcolor": "#C8D4E3",
                      "bordercolor": "rgb(17,17,17)",
                      "borderwidth": 1,
                      "tickwidth": 0
                    },
                    "ternary": {
                      "aaxis": {
                        "gridcolor": "#506784",
                        "linecolor": "#506784",
                        "ticks": ""
                      },
                      "baxis": {
                        "gridcolor": "#506784",
                        "linecolor": "#506784",
                        "ticks": ""
                      },
                      "bgcolor": "rgb(17,17,17)",
                      "caxis": {
                        "gridcolor": "#506784",
                        "linecolor": "#506784",
                        "ticks": ""
                      }
                    },
                    "title": {
                      "x": 0.05
                    },
                    "updatemenudefaults": {
                      "bgcolor": "#506784",
                      "borderwidth": 0
                    },
                    "xaxis": {
                      "automargin": true,
                      "gridcolor": "#283442",
                      "linecolor": "#506784",
                      "ticks": "",
                      "title": {
                        "standoff": 15
                      },
                      "zerolinecolor": "#283442",
                      "zerolinewidth": 2
                    },
                    "yaxis": {
                      "automargin": true,
                      "gridcolor": "#283442",
                      "linecolor": "#506784",
                      "ticks": "",
                      "title": {
                        "standoff": 15
                      },
                      "zerolinecolor": "#283442",
                      "zerolinewidth": 2
                    }
                  }
                },
                "title": {
                  "text": "Top 10 Movies"
                },
                "xaxis": {
                  "anchor": "y",
                  "domain": [
                    0,
                    1
                  ],
                  "title": {
                    "text": "title"
                  }
                },
                "yaxis": {
                  "anchor": "x",
                  "domain": [
                    0,
                    1
                  ],
                  "title": {
                    "text": "count"
                  }
                }
              }
            }
          },
          "metadata": {},
          "output_type": "display_data"
        }
      ],
      "source": [
        "ask('show me 10 movies')"
      ]
    },
    {
      "cell_type": "code",
      "execution_count": 16,
      "id": "17c01356",
      "metadata": {},
      "outputs": [
        {
          "name": "stdout",
          "output_type": "stream",
          "text": [
            "Original: [1, [2, 3], 4]\n",
            "Shallow copy: [1, [2, 3], 4]\n",
            "\n",
            "After modification:\n",
            "Original: [1, ['X', 3], 4]\n",
            "Shallow copy: [1, [2, 3], 4]\n"
          ]
        }
      ],
      "source": [
        "import copy\n",
        "\n",
        "original_list = [1, [2, 3], 4]\n",
        "shallow_copy = copy.deepcopy(original_list)\n",
        "# shallow_copy = [i for i in original_list]\n",
        "\n",
        "print(\"Original:\", original_list)\n",
        "print(\"Shallow copy:\", shallow_copy)\n",
        "\n",
        "# Modifying the nested list\n",
        "original_list[1][0] = 'X'\n",
        "\n",
        "print(\"\\nAfter modification:\")\n",
        "print(\"Original:\", original_list)\n",
        "print(\"Shallow copy:\", shallow_copy)"
      ]
    },
    {
      "cell_type": "code",
      "execution_count": 17,
      "id": "2410fcfc",
      "metadata": {},
      "outputs": [
        {
          "name": "stderr",
          "output_type": "stream",
          "text": [
            "Number of requested results 10 is greater than number of elements in index 4, updating n_results = 4\n"
          ]
        },
        {
          "name": "stdout",
          "output_type": "stream",
          "text": [
            "Using model gpt-4o-mini for 2563.25 tokens (approx)\n",
            "Extracted SQL: SELECT f.title, COUNT(r.rental_id) AS rental_count\n",
            "FROM film f\n",
            "JOIN inventory i ON f.film_id = i.film_id\n",
            "JOIN rental r ON i.inventory_id = r.inventory_id\n",
            "GROUP BY f.title\n",
            "ORDER BY rental_count DESC\n",
            "LIMIT 10;\n",
            "\n",
            " \n",
            "============\n",
            "query: \n",
            " SELECT f.title, COUNT(r.rental_id) AS rental_count\n",
            "FROM film f\n",
            "JOIN inventory i ON f.film_id = i.film_id\n",
            "JOIN rental r ON i.inventory_id = r.inventory_id\n",
            "GROUP BY f.title\n",
            "ORDER BY rental_count DESC\n",
            "LIMIT 10;\n",
            "-----------\n",
            "result: \n",
            "                  title  rental_count\n",
            "0   Bucket Brotherhood            34\n",
            "1     Rocketeer Mother            33\n",
            "2       Juggler Hardly            32\n",
            "3  Ridgemont Submarine            32\n",
            "4       Grit Clockwork            32\n",
            "5       Forward Temple            32\n",
            "6        Scalawag Duck            32\n",
            "7        Apache Divine            31\n",
            "8    Goodfellas Salute            31\n",
            "9      Rush Goodfellas            31\n",
            "============\n",
            "<function system_message at 0x000001FC5ECE9260>\n",
            "Using model gpt-3.5-turbo for 210.25 tokens (approx)\n"
          ]
        },
        {
          "data": {
            "application/vnd.plotly.v1+json": {
              "config": {
                "plotlyServerURL": "https://plot.ly"
              },
              "data": [
                {
                  "alignmentgroup": "True",
                  "hovertemplate": "title=%{x}<br>rental_count=%{y}<extra></extra>",
                  "legendgroup": "",
                  "marker": {
                    "color": "#636efa",
                    "pattern": {
                      "shape": ""
                    }
                  },
                  "name": "",
                  "offsetgroup": "",
                  "orientation": "v",
                  "showlegend": false,
                  "textposition": "auto",
                  "type": "bar",
                  "x": [
                    "Bucket Brotherhood",
                    "Rocketeer Mother",
                    "Juggler Hardly",
                    "Ridgemont Submarine",
                    "Grit Clockwork",
                    "Forward Temple",
                    "Scalawag Duck",
                    "Apache Divine",
                    "Goodfellas Salute",
                    "Rush Goodfellas"
                  ],
                  "xaxis": "x",
                  "y": [
                    34,
                    33,
                    32,
                    32,
                    32,
                    32,
                    32,
                    31,
                    31,
                    31
                  ],
                  "yaxis": "y"
                }
              ],
              "layout": {
                "barmode": "relative",
                "legend": {
                  "tracegroupgap": 0
                },
                "template": {
                  "data": {
                    "bar": [
                      {
                        "error_x": {
                          "color": "#f2f5fa"
                        },
                        "error_y": {
                          "color": "#f2f5fa"
                        },
                        "marker": {
                          "line": {
                            "color": "rgb(17,17,17)",
                            "width": 0.5
                          },
                          "pattern": {
                            "fillmode": "overlay",
                            "size": 10,
                            "solidity": 0.2
                          }
                        },
                        "type": "bar"
                      }
                    ],
                    "barpolar": [
                      {
                        "marker": {
                          "line": {
                            "color": "rgb(17,17,17)",
                            "width": 0.5
                          },
                          "pattern": {
                            "fillmode": "overlay",
                            "size": 10,
                            "solidity": 0.2
                          }
                        },
                        "type": "barpolar"
                      }
                    ],
                    "carpet": [
                      {
                        "aaxis": {
                          "endlinecolor": "#A2B1C6",
                          "gridcolor": "#506784",
                          "linecolor": "#506784",
                          "minorgridcolor": "#506784",
                          "startlinecolor": "#A2B1C6"
                        },
                        "baxis": {
                          "endlinecolor": "#A2B1C6",
                          "gridcolor": "#506784",
                          "linecolor": "#506784",
                          "minorgridcolor": "#506784",
                          "startlinecolor": "#A2B1C6"
                        },
                        "type": "carpet"
                      }
                    ],
                    "choropleth": [
                      {
                        "colorbar": {
                          "outlinewidth": 0,
                          "ticks": ""
                        },
                        "type": "choropleth"
                      }
                    ],
                    "contour": [
                      {
                        "colorbar": {
                          "outlinewidth": 0,
                          "ticks": ""
                        },
                        "colorscale": [
                          [
                            0,
                            "#0d0887"
                          ],
                          [
                            0.1111111111111111,
                            "#46039f"
                          ],
                          [
                            0.2222222222222222,
                            "#7201a8"
                          ],
                          [
                            0.3333333333333333,
                            "#9c179e"
                          ],
                          [
                            0.4444444444444444,
                            "#bd3786"
                          ],
                          [
                            0.5555555555555556,
                            "#d8576b"
                          ],
                          [
                            0.6666666666666666,
                            "#ed7953"
                          ],
                          [
                            0.7777777777777778,
                            "#fb9f3a"
                          ],
                          [
                            0.8888888888888888,
                            "#fdca26"
                          ],
                          [
                            1,
                            "#f0f921"
                          ]
                        ],
                        "type": "contour"
                      }
                    ],
                    "contourcarpet": [
                      {
                        "colorbar": {
                          "outlinewidth": 0,
                          "ticks": ""
                        },
                        "type": "contourcarpet"
                      }
                    ],
                    "heatmap": [
                      {
                        "colorbar": {
                          "outlinewidth": 0,
                          "ticks": ""
                        },
                        "colorscale": [
                          [
                            0,
                            "#0d0887"
                          ],
                          [
                            0.1111111111111111,
                            "#46039f"
                          ],
                          [
                            0.2222222222222222,
                            "#7201a8"
                          ],
                          [
                            0.3333333333333333,
                            "#9c179e"
                          ],
                          [
                            0.4444444444444444,
                            "#bd3786"
                          ],
                          [
                            0.5555555555555556,
                            "#d8576b"
                          ],
                          [
                            0.6666666666666666,
                            "#ed7953"
                          ],
                          [
                            0.7777777777777778,
                            "#fb9f3a"
                          ],
                          [
                            0.8888888888888888,
                            "#fdca26"
                          ],
                          [
                            1,
                            "#f0f921"
                          ]
                        ],
                        "type": "heatmap"
                      }
                    ],
                    "heatmapgl": [
                      {
                        "colorbar": {
                          "outlinewidth": 0,
                          "ticks": ""
                        },
                        "colorscale": [
                          [
                            0,
                            "#0d0887"
                          ],
                          [
                            0.1111111111111111,
                            "#46039f"
                          ],
                          [
                            0.2222222222222222,
                            "#7201a8"
                          ],
                          [
                            0.3333333333333333,
                            "#9c179e"
                          ],
                          [
                            0.4444444444444444,
                            "#bd3786"
                          ],
                          [
                            0.5555555555555556,
                            "#d8576b"
                          ],
                          [
                            0.6666666666666666,
                            "#ed7953"
                          ],
                          [
                            0.7777777777777778,
                            "#fb9f3a"
                          ],
                          [
                            0.8888888888888888,
                            "#fdca26"
                          ],
                          [
                            1,
                            "#f0f921"
                          ]
                        ],
                        "type": "heatmapgl"
                      }
                    ],
                    "histogram": [
                      {
                        "marker": {
                          "pattern": {
                            "fillmode": "overlay",
                            "size": 10,
                            "solidity": 0.2
                          }
                        },
                        "type": "histogram"
                      }
                    ],
                    "histogram2d": [
                      {
                        "colorbar": {
                          "outlinewidth": 0,
                          "ticks": ""
                        },
                        "colorscale": [
                          [
                            0,
                            "#0d0887"
                          ],
                          [
                            0.1111111111111111,
                            "#46039f"
                          ],
                          [
                            0.2222222222222222,
                            "#7201a8"
                          ],
                          [
                            0.3333333333333333,
                            "#9c179e"
                          ],
                          [
                            0.4444444444444444,
                            "#bd3786"
                          ],
                          [
                            0.5555555555555556,
                            "#d8576b"
                          ],
                          [
                            0.6666666666666666,
                            "#ed7953"
                          ],
                          [
                            0.7777777777777778,
                            "#fb9f3a"
                          ],
                          [
                            0.8888888888888888,
                            "#fdca26"
                          ],
                          [
                            1,
                            "#f0f921"
                          ]
                        ],
                        "type": "histogram2d"
                      }
                    ],
                    "histogram2dcontour": [
                      {
                        "colorbar": {
                          "outlinewidth": 0,
                          "ticks": ""
                        },
                        "colorscale": [
                          [
                            0,
                            "#0d0887"
                          ],
                          [
                            0.1111111111111111,
                            "#46039f"
                          ],
                          [
                            0.2222222222222222,
                            "#7201a8"
                          ],
                          [
                            0.3333333333333333,
                            "#9c179e"
                          ],
                          [
                            0.4444444444444444,
                            "#bd3786"
                          ],
                          [
                            0.5555555555555556,
                            "#d8576b"
                          ],
                          [
                            0.6666666666666666,
                            "#ed7953"
                          ],
                          [
                            0.7777777777777778,
                            "#fb9f3a"
                          ],
                          [
                            0.8888888888888888,
                            "#fdca26"
                          ],
                          [
                            1,
                            "#f0f921"
                          ]
                        ],
                        "type": "histogram2dcontour"
                      }
                    ],
                    "mesh3d": [
                      {
                        "colorbar": {
                          "outlinewidth": 0,
                          "ticks": ""
                        },
                        "type": "mesh3d"
                      }
                    ],
                    "parcoords": [
                      {
                        "line": {
                          "colorbar": {
                            "outlinewidth": 0,
                            "ticks": ""
                          }
                        },
                        "type": "parcoords"
                      }
                    ],
                    "pie": [
                      {
                        "automargin": true,
                        "type": "pie"
                      }
                    ],
                    "scatter": [
                      {
                        "marker": {
                          "line": {
                            "color": "#283442"
                          }
                        },
                        "type": "scatter"
                      }
                    ],
                    "scatter3d": [
                      {
                        "line": {
                          "colorbar": {
                            "outlinewidth": 0,
                            "ticks": ""
                          }
                        },
                        "marker": {
                          "colorbar": {
                            "outlinewidth": 0,
                            "ticks": ""
                          }
                        },
                        "type": "scatter3d"
                      }
                    ],
                    "scattercarpet": [
                      {
                        "marker": {
                          "colorbar": {
                            "outlinewidth": 0,
                            "ticks": ""
                          }
                        },
                        "type": "scattercarpet"
                      }
                    ],
                    "scattergeo": [
                      {
                        "marker": {
                          "colorbar": {
                            "outlinewidth": 0,
                            "ticks": ""
                          }
                        },
                        "type": "scattergeo"
                      }
                    ],
                    "scattergl": [
                      {
                        "marker": {
                          "line": {
                            "color": "#283442"
                          }
                        },
                        "type": "scattergl"
                      }
                    ],
                    "scattermapbox": [
                      {
                        "marker": {
                          "colorbar": {
                            "outlinewidth": 0,
                            "ticks": ""
                          }
                        },
                        "type": "scattermapbox"
                      }
                    ],
                    "scatterpolar": [
                      {
                        "marker": {
                          "colorbar": {
                            "outlinewidth": 0,
                            "ticks": ""
                          }
                        },
                        "type": "scatterpolar"
                      }
                    ],
                    "scatterpolargl": [
                      {
                        "marker": {
                          "colorbar": {
                            "outlinewidth": 0,
                            "ticks": ""
                          }
                        },
                        "type": "scatterpolargl"
                      }
                    ],
                    "scatterternary": [
                      {
                        "marker": {
                          "colorbar": {
                            "outlinewidth": 0,
                            "ticks": ""
                          }
                        },
                        "type": "scatterternary"
                      }
                    ],
                    "surface": [
                      {
                        "colorbar": {
                          "outlinewidth": 0,
                          "ticks": ""
                        },
                        "colorscale": [
                          [
                            0,
                            "#0d0887"
                          ],
                          [
                            0.1111111111111111,
                            "#46039f"
                          ],
                          [
                            0.2222222222222222,
                            "#7201a8"
                          ],
                          [
                            0.3333333333333333,
                            "#9c179e"
                          ],
                          [
                            0.4444444444444444,
                            "#bd3786"
                          ],
                          [
                            0.5555555555555556,
                            "#d8576b"
                          ],
                          [
                            0.6666666666666666,
                            "#ed7953"
                          ],
                          [
                            0.7777777777777778,
                            "#fb9f3a"
                          ],
                          [
                            0.8888888888888888,
                            "#fdca26"
                          ],
                          [
                            1,
                            "#f0f921"
                          ]
                        ],
                        "type": "surface"
                      }
                    ],
                    "table": [
                      {
                        "cells": {
                          "fill": {
                            "color": "#506784"
                          },
                          "line": {
                            "color": "rgb(17,17,17)"
                          }
                        },
                        "header": {
                          "fill": {
                            "color": "#2a3f5f"
                          },
                          "line": {
                            "color": "rgb(17,17,17)"
                          }
                        },
                        "type": "table"
                      }
                    ]
                  },
                  "layout": {
                    "annotationdefaults": {
                      "arrowcolor": "#f2f5fa",
                      "arrowhead": 0,
                      "arrowwidth": 1
                    },
                    "autotypenumbers": "strict",
                    "coloraxis": {
                      "colorbar": {
                        "outlinewidth": 0,
                        "ticks": ""
                      }
                    },
                    "colorscale": {
                      "diverging": [
                        [
                          0,
                          "#8e0152"
                        ],
                        [
                          0.1,
                          "#c51b7d"
                        ],
                        [
                          0.2,
                          "#de77ae"
                        ],
                        [
                          0.3,
                          "#f1b6da"
                        ],
                        [
                          0.4,
                          "#fde0ef"
                        ],
                        [
                          0.5,
                          "#f7f7f7"
                        ],
                        [
                          0.6,
                          "#e6f5d0"
                        ],
                        [
                          0.7,
                          "#b8e186"
                        ],
                        [
                          0.8,
                          "#7fbc41"
                        ],
                        [
                          0.9,
                          "#4d9221"
                        ],
                        [
                          1,
                          "#276419"
                        ]
                      ],
                      "sequential": [
                        [
                          0,
                          "#0d0887"
                        ],
                        [
                          0.1111111111111111,
                          "#46039f"
                        ],
                        [
                          0.2222222222222222,
                          "#7201a8"
                        ],
                        [
                          0.3333333333333333,
                          "#9c179e"
                        ],
                        [
                          0.4444444444444444,
                          "#bd3786"
                        ],
                        [
                          0.5555555555555556,
                          "#d8576b"
                        ],
                        [
                          0.6666666666666666,
                          "#ed7953"
                        ],
                        [
                          0.7777777777777778,
                          "#fb9f3a"
                        ],
                        [
                          0.8888888888888888,
                          "#fdca26"
                        ],
                        [
                          1,
                          "#f0f921"
                        ]
                      ],
                      "sequentialminus": [
                        [
                          0,
                          "#0d0887"
                        ],
                        [
                          0.1111111111111111,
                          "#46039f"
                        ],
                        [
                          0.2222222222222222,
                          "#7201a8"
                        ],
                        [
                          0.3333333333333333,
                          "#9c179e"
                        ],
                        [
                          0.4444444444444444,
                          "#bd3786"
                        ],
                        [
                          0.5555555555555556,
                          "#d8576b"
                        ],
                        [
                          0.6666666666666666,
                          "#ed7953"
                        ],
                        [
                          0.7777777777777778,
                          "#fb9f3a"
                        ],
                        [
                          0.8888888888888888,
                          "#fdca26"
                        ],
                        [
                          1,
                          "#f0f921"
                        ]
                      ]
                    },
                    "colorway": [
                      "#636efa",
                      "#EF553B",
                      "#00cc96",
                      "#ab63fa",
                      "#FFA15A",
                      "#19d3f3",
                      "#FF6692",
                      "#B6E880",
                      "#FF97FF",
                      "#FECB52"
                    ],
                    "font": {
                      "color": "#f2f5fa"
                    },
                    "geo": {
                      "bgcolor": "rgb(17,17,17)",
                      "lakecolor": "rgb(17,17,17)",
                      "landcolor": "rgb(17,17,17)",
                      "showlakes": true,
                      "showland": true,
                      "subunitcolor": "#506784"
                    },
                    "hoverlabel": {
                      "align": "left"
                    },
                    "hovermode": "closest",
                    "mapbox": {
                      "style": "dark"
                    },
                    "paper_bgcolor": "rgb(17,17,17)",
                    "plot_bgcolor": "rgb(17,17,17)",
                    "polar": {
                      "angularaxis": {
                        "gridcolor": "#506784",
                        "linecolor": "#506784",
                        "ticks": ""
                      },
                      "bgcolor": "rgb(17,17,17)",
                      "radialaxis": {
                        "gridcolor": "#506784",
                        "linecolor": "#506784",
                        "ticks": ""
                      }
                    },
                    "scene": {
                      "xaxis": {
                        "backgroundcolor": "rgb(17,17,17)",
                        "gridcolor": "#506784",
                        "gridwidth": 2,
                        "linecolor": "#506784",
                        "showbackground": true,
                        "ticks": "",
                        "zerolinecolor": "#C8D4E3"
                      },
                      "yaxis": {
                        "backgroundcolor": "rgb(17,17,17)",
                        "gridcolor": "#506784",
                        "gridwidth": 2,
                        "linecolor": "#506784",
                        "showbackground": true,
                        "ticks": "",
                        "zerolinecolor": "#C8D4E3"
                      },
                      "zaxis": {
                        "backgroundcolor": "rgb(17,17,17)",
                        "gridcolor": "#506784",
                        "gridwidth": 2,
                        "linecolor": "#506784",
                        "showbackground": true,
                        "ticks": "",
                        "zerolinecolor": "#C8D4E3"
                      }
                    },
                    "shapedefaults": {
                      "line": {
                        "color": "#f2f5fa"
                      }
                    },
                    "sliderdefaults": {
                      "bgcolor": "#C8D4E3",
                      "bordercolor": "rgb(17,17,17)",
                      "borderwidth": 1,
                      "tickwidth": 0
                    },
                    "ternary": {
                      "aaxis": {
                        "gridcolor": "#506784",
                        "linecolor": "#506784",
                        "ticks": ""
                      },
                      "baxis": {
                        "gridcolor": "#506784",
                        "linecolor": "#506784",
                        "ticks": ""
                      },
                      "bgcolor": "rgb(17,17,17)",
                      "caxis": {
                        "gridcolor": "#506784",
                        "linecolor": "#506784",
                        "ticks": ""
                      }
                    },
                    "title": {
                      "x": 0.05
                    },
                    "updatemenudefaults": {
                      "bgcolor": "#506784",
                      "borderwidth": 0
                    },
                    "xaxis": {
                      "automargin": true,
                      "gridcolor": "#283442",
                      "linecolor": "#506784",
                      "ticks": "",
                      "title": {
                        "standoff": 15
                      },
                      "zerolinecolor": "#283442",
                      "zerolinewidth": 2
                    },
                    "yaxis": {
                      "automargin": true,
                      "gridcolor": "#283442",
                      "linecolor": "#506784",
                      "ticks": "",
                      "title": {
                        "standoff": 15
                      },
                      "zerolinecolor": "#283442",
                      "zerolinewidth": 2
                    }
                  }
                },
                "title": {
                  "text": "Top 10 Rental Movies"
                },
                "xaxis": {
                  "anchor": "y",
                  "domain": [
                    0,
                    1
                  ],
                  "title": {
                    "text": "title"
                  }
                },
                "yaxis": {
                  "anchor": "x",
                  "domain": [
                    0,
                    1
                  ],
                  "title": {
                    "text": "rental_count"
                  }
                }
              }
            }
          },
          "metadata": {},
          "output_type": "display_data"
        }
      ],
      "source": [
        "ask('show me top 10 rental movies')"
      ]
    },
    {
      "cell_type": "code",
      "execution_count": 18,
      "id": "344e4ce7",
      "metadata": {},
      "outputs": [
        {
          "name": "stderr",
          "output_type": "stream",
          "text": [
            "Number of requested results 10 is greater than number of elements in index 5, updating n_results = 5\n"
          ]
        },
        {
          "name": "stdout",
          "output_type": "stream",
          "text": [
            "Using model gpt-4o-mini for 2548.25 tokens (approx)\n",
            "Extracted SQL: SELECT title\n",
            "FROM film_list\n",
            "WHERE category = 'Drama'\n",
            "LIMIT 10;\n",
            "\n",
            " \n",
            "============\n",
            "query: \n",
            " SELECT title\n",
            "FROM film_list\n",
            "WHERE category = 'Drama'\n",
            "LIMIT 10;\n",
            "-----------\n",
            "result: \n",
            "                  title\n",
            "0          Apollo Teen\n",
            "1        Beauty Grease\n",
            "2   Beethoven Exorcist\n",
            "3         Blade Polish\n",
            "4    Bright Encounters\n",
            "5          Bunch Minds\n",
            "6           Chill Luck\n",
            "7          Chitty Lock\n",
            "8    Coneheads Smoochy\n",
            "9  Confessions Maguire\n",
            "============\n",
            "<function system_message at 0x000001FC5ECE9260>\n",
            "Using model gpt-3.5-turbo for 171.75 tokens (approx)\n"
          ]
        },
        {
          "data": {
            "application/vnd.plotly.v1+json": {
              "config": {
                "plotlyServerURL": "https://plot.ly"
              },
              "data": [
                {
                  "alignmentgroup": "True",
                  "hovertemplate": "title=%{x}<br>count=%{y}<extra></extra>",
                  "legendgroup": "",
                  "marker": {
                    "color": "#636efa",
                    "pattern": {
                      "shape": ""
                    }
                  },
                  "name": "",
                  "offsetgroup": "",
                  "orientation": "v",
                  "showlegend": false,
                  "textposition": "auto",
                  "type": "bar",
                  "x": [
                    "Apollo Teen",
                    "Beauty Grease",
                    "Beethoven Exorcist",
                    "Blade Polish",
                    "Bright Encounters",
                    "Bunch Minds",
                    "Chill Luck",
                    "Chitty Lock",
                    "Coneheads Smoochy",
                    "Confessions Maguire"
                  ],
                  "xaxis": "x",
                  "y": [
                    1,
                    1,
                    1,
                    1,
                    1,
                    1,
                    1,
                    1,
                    1,
                    1
                  ],
                  "yaxis": "y"
                }
              ],
              "layout": {
                "barmode": "relative",
                "legend": {
                  "tracegroupgap": 0
                },
                "template": {
                  "data": {
                    "bar": [
                      {
                        "error_x": {
                          "color": "#f2f5fa"
                        },
                        "error_y": {
                          "color": "#f2f5fa"
                        },
                        "marker": {
                          "line": {
                            "color": "rgb(17,17,17)",
                            "width": 0.5
                          },
                          "pattern": {
                            "fillmode": "overlay",
                            "size": 10,
                            "solidity": 0.2
                          }
                        },
                        "type": "bar"
                      }
                    ],
                    "barpolar": [
                      {
                        "marker": {
                          "line": {
                            "color": "rgb(17,17,17)",
                            "width": 0.5
                          },
                          "pattern": {
                            "fillmode": "overlay",
                            "size": 10,
                            "solidity": 0.2
                          }
                        },
                        "type": "barpolar"
                      }
                    ],
                    "carpet": [
                      {
                        "aaxis": {
                          "endlinecolor": "#A2B1C6",
                          "gridcolor": "#506784",
                          "linecolor": "#506784",
                          "minorgridcolor": "#506784",
                          "startlinecolor": "#A2B1C6"
                        },
                        "baxis": {
                          "endlinecolor": "#A2B1C6",
                          "gridcolor": "#506784",
                          "linecolor": "#506784",
                          "minorgridcolor": "#506784",
                          "startlinecolor": "#A2B1C6"
                        },
                        "type": "carpet"
                      }
                    ],
                    "choropleth": [
                      {
                        "colorbar": {
                          "outlinewidth": 0,
                          "ticks": ""
                        },
                        "type": "choropleth"
                      }
                    ],
                    "contour": [
                      {
                        "colorbar": {
                          "outlinewidth": 0,
                          "ticks": ""
                        },
                        "colorscale": [
                          [
                            0,
                            "#0d0887"
                          ],
                          [
                            0.1111111111111111,
                            "#46039f"
                          ],
                          [
                            0.2222222222222222,
                            "#7201a8"
                          ],
                          [
                            0.3333333333333333,
                            "#9c179e"
                          ],
                          [
                            0.4444444444444444,
                            "#bd3786"
                          ],
                          [
                            0.5555555555555556,
                            "#d8576b"
                          ],
                          [
                            0.6666666666666666,
                            "#ed7953"
                          ],
                          [
                            0.7777777777777778,
                            "#fb9f3a"
                          ],
                          [
                            0.8888888888888888,
                            "#fdca26"
                          ],
                          [
                            1,
                            "#f0f921"
                          ]
                        ],
                        "type": "contour"
                      }
                    ],
                    "contourcarpet": [
                      {
                        "colorbar": {
                          "outlinewidth": 0,
                          "ticks": ""
                        },
                        "type": "contourcarpet"
                      }
                    ],
                    "heatmap": [
                      {
                        "colorbar": {
                          "outlinewidth": 0,
                          "ticks": ""
                        },
                        "colorscale": [
                          [
                            0,
                            "#0d0887"
                          ],
                          [
                            0.1111111111111111,
                            "#46039f"
                          ],
                          [
                            0.2222222222222222,
                            "#7201a8"
                          ],
                          [
                            0.3333333333333333,
                            "#9c179e"
                          ],
                          [
                            0.4444444444444444,
                            "#bd3786"
                          ],
                          [
                            0.5555555555555556,
                            "#d8576b"
                          ],
                          [
                            0.6666666666666666,
                            "#ed7953"
                          ],
                          [
                            0.7777777777777778,
                            "#fb9f3a"
                          ],
                          [
                            0.8888888888888888,
                            "#fdca26"
                          ],
                          [
                            1,
                            "#f0f921"
                          ]
                        ],
                        "type": "heatmap"
                      }
                    ],
                    "heatmapgl": [
                      {
                        "colorbar": {
                          "outlinewidth": 0,
                          "ticks": ""
                        },
                        "colorscale": [
                          [
                            0,
                            "#0d0887"
                          ],
                          [
                            0.1111111111111111,
                            "#46039f"
                          ],
                          [
                            0.2222222222222222,
                            "#7201a8"
                          ],
                          [
                            0.3333333333333333,
                            "#9c179e"
                          ],
                          [
                            0.4444444444444444,
                            "#bd3786"
                          ],
                          [
                            0.5555555555555556,
                            "#d8576b"
                          ],
                          [
                            0.6666666666666666,
                            "#ed7953"
                          ],
                          [
                            0.7777777777777778,
                            "#fb9f3a"
                          ],
                          [
                            0.8888888888888888,
                            "#fdca26"
                          ],
                          [
                            1,
                            "#f0f921"
                          ]
                        ],
                        "type": "heatmapgl"
                      }
                    ],
                    "histogram": [
                      {
                        "marker": {
                          "pattern": {
                            "fillmode": "overlay",
                            "size": 10,
                            "solidity": 0.2
                          }
                        },
                        "type": "histogram"
                      }
                    ],
                    "histogram2d": [
                      {
                        "colorbar": {
                          "outlinewidth": 0,
                          "ticks": ""
                        },
                        "colorscale": [
                          [
                            0,
                            "#0d0887"
                          ],
                          [
                            0.1111111111111111,
                            "#46039f"
                          ],
                          [
                            0.2222222222222222,
                            "#7201a8"
                          ],
                          [
                            0.3333333333333333,
                            "#9c179e"
                          ],
                          [
                            0.4444444444444444,
                            "#bd3786"
                          ],
                          [
                            0.5555555555555556,
                            "#d8576b"
                          ],
                          [
                            0.6666666666666666,
                            "#ed7953"
                          ],
                          [
                            0.7777777777777778,
                            "#fb9f3a"
                          ],
                          [
                            0.8888888888888888,
                            "#fdca26"
                          ],
                          [
                            1,
                            "#f0f921"
                          ]
                        ],
                        "type": "histogram2d"
                      }
                    ],
                    "histogram2dcontour": [
                      {
                        "colorbar": {
                          "outlinewidth": 0,
                          "ticks": ""
                        },
                        "colorscale": [
                          [
                            0,
                            "#0d0887"
                          ],
                          [
                            0.1111111111111111,
                            "#46039f"
                          ],
                          [
                            0.2222222222222222,
                            "#7201a8"
                          ],
                          [
                            0.3333333333333333,
                            "#9c179e"
                          ],
                          [
                            0.4444444444444444,
                            "#bd3786"
                          ],
                          [
                            0.5555555555555556,
                            "#d8576b"
                          ],
                          [
                            0.6666666666666666,
                            "#ed7953"
                          ],
                          [
                            0.7777777777777778,
                            "#fb9f3a"
                          ],
                          [
                            0.8888888888888888,
                            "#fdca26"
                          ],
                          [
                            1,
                            "#f0f921"
                          ]
                        ],
                        "type": "histogram2dcontour"
                      }
                    ],
                    "mesh3d": [
                      {
                        "colorbar": {
                          "outlinewidth": 0,
                          "ticks": ""
                        },
                        "type": "mesh3d"
                      }
                    ],
                    "parcoords": [
                      {
                        "line": {
                          "colorbar": {
                            "outlinewidth": 0,
                            "ticks": ""
                          }
                        },
                        "type": "parcoords"
                      }
                    ],
                    "pie": [
                      {
                        "automargin": true,
                        "type": "pie"
                      }
                    ],
                    "scatter": [
                      {
                        "marker": {
                          "line": {
                            "color": "#283442"
                          }
                        },
                        "type": "scatter"
                      }
                    ],
                    "scatter3d": [
                      {
                        "line": {
                          "colorbar": {
                            "outlinewidth": 0,
                            "ticks": ""
                          }
                        },
                        "marker": {
                          "colorbar": {
                            "outlinewidth": 0,
                            "ticks": ""
                          }
                        },
                        "type": "scatter3d"
                      }
                    ],
                    "scattercarpet": [
                      {
                        "marker": {
                          "colorbar": {
                            "outlinewidth": 0,
                            "ticks": ""
                          }
                        },
                        "type": "scattercarpet"
                      }
                    ],
                    "scattergeo": [
                      {
                        "marker": {
                          "colorbar": {
                            "outlinewidth": 0,
                            "ticks": ""
                          }
                        },
                        "type": "scattergeo"
                      }
                    ],
                    "scattergl": [
                      {
                        "marker": {
                          "line": {
                            "color": "#283442"
                          }
                        },
                        "type": "scattergl"
                      }
                    ],
                    "scattermapbox": [
                      {
                        "marker": {
                          "colorbar": {
                            "outlinewidth": 0,
                            "ticks": ""
                          }
                        },
                        "type": "scattermapbox"
                      }
                    ],
                    "scatterpolar": [
                      {
                        "marker": {
                          "colorbar": {
                            "outlinewidth": 0,
                            "ticks": ""
                          }
                        },
                        "type": "scatterpolar"
                      }
                    ],
                    "scatterpolargl": [
                      {
                        "marker": {
                          "colorbar": {
                            "outlinewidth": 0,
                            "ticks": ""
                          }
                        },
                        "type": "scatterpolargl"
                      }
                    ],
                    "scatterternary": [
                      {
                        "marker": {
                          "colorbar": {
                            "outlinewidth": 0,
                            "ticks": ""
                          }
                        },
                        "type": "scatterternary"
                      }
                    ],
                    "surface": [
                      {
                        "colorbar": {
                          "outlinewidth": 0,
                          "ticks": ""
                        },
                        "colorscale": [
                          [
                            0,
                            "#0d0887"
                          ],
                          [
                            0.1111111111111111,
                            "#46039f"
                          ],
                          [
                            0.2222222222222222,
                            "#7201a8"
                          ],
                          [
                            0.3333333333333333,
                            "#9c179e"
                          ],
                          [
                            0.4444444444444444,
                            "#bd3786"
                          ],
                          [
                            0.5555555555555556,
                            "#d8576b"
                          ],
                          [
                            0.6666666666666666,
                            "#ed7953"
                          ],
                          [
                            0.7777777777777778,
                            "#fb9f3a"
                          ],
                          [
                            0.8888888888888888,
                            "#fdca26"
                          ],
                          [
                            1,
                            "#f0f921"
                          ]
                        ],
                        "type": "surface"
                      }
                    ],
                    "table": [
                      {
                        "cells": {
                          "fill": {
                            "color": "#506784"
                          },
                          "line": {
                            "color": "rgb(17,17,17)"
                          }
                        },
                        "header": {
                          "fill": {
                            "color": "#2a3f5f"
                          },
                          "line": {
                            "color": "rgb(17,17,17)"
                          }
                        },
                        "type": "table"
                      }
                    ]
                  },
                  "layout": {
                    "annotationdefaults": {
                      "arrowcolor": "#f2f5fa",
                      "arrowhead": 0,
                      "arrowwidth": 1
                    },
                    "autotypenumbers": "strict",
                    "coloraxis": {
                      "colorbar": {
                        "outlinewidth": 0,
                        "ticks": ""
                      }
                    },
                    "colorscale": {
                      "diverging": [
                        [
                          0,
                          "#8e0152"
                        ],
                        [
                          0.1,
                          "#c51b7d"
                        ],
                        [
                          0.2,
                          "#de77ae"
                        ],
                        [
                          0.3,
                          "#f1b6da"
                        ],
                        [
                          0.4,
                          "#fde0ef"
                        ],
                        [
                          0.5,
                          "#f7f7f7"
                        ],
                        [
                          0.6,
                          "#e6f5d0"
                        ],
                        [
                          0.7,
                          "#b8e186"
                        ],
                        [
                          0.8,
                          "#7fbc41"
                        ],
                        [
                          0.9,
                          "#4d9221"
                        ],
                        [
                          1,
                          "#276419"
                        ]
                      ],
                      "sequential": [
                        [
                          0,
                          "#0d0887"
                        ],
                        [
                          0.1111111111111111,
                          "#46039f"
                        ],
                        [
                          0.2222222222222222,
                          "#7201a8"
                        ],
                        [
                          0.3333333333333333,
                          "#9c179e"
                        ],
                        [
                          0.4444444444444444,
                          "#bd3786"
                        ],
                        [
                          0.5555555555555556,
                          "#d8576b"
                        ],
                        [
                          0.6666666666666666,
                          "#ed7953"
                        ],
                        [
                          0.7777777777777778,
                          "#fb9f3a"
                        ],
                        [
                          0.8888888888888888,
                          "#fdca26"
                        ],
                        [
                          1,
                          "#f0f921"
                        ]
                      ],
                      "sequentialminus": [
                        [
                          0,
                          "#0d0887"
                        ],
                        [
                          0.1111111111111111,
                          "#46039f"
                        ],
                        [
                          0.2222222222222222,
                          "#7201a8"
                        ],
                        [
                          0.3333333333333333,
                          "#9c179e"
                        ],
                        [
                          0.4444444444444444,
                          "#bd3786"
                        ],
                        [
                          0.5555555555555556,
                          "#d8576b"
                        ],
                        [
                          0.6666666666666666,
                          "#ed7953"
                        ],
                        [
                          0.7777777777777778,
                          "#fb9f3a"
                        ],
                        [
                          0.8888888888888888,
                          "#fdca26"
                        ],
                        [
                          1,
                          "#f0f921"
                        ]
                      ]
                    },
                    "colorway": [
                      "#636efa",
                      "#EF553B",
                      "#00cc96",
                      "#ab63fa",
                      "#FFA15A",
                      "#19d3f3",
                      "#FF6692",
                      "#B6E880",
                      "#FF97FF",
                      "#FECB52"
                    ],
                    "font": {
                      "color": "#f2f5fa"
                    },
                    "geo": {
                      "bgcolor": "rgb(17,17,17)",
                      "lakecolor": "rgb(17,17,17)",
                      "landcolor": "rgb(17,17,17)",
                      "showlakes": true,
                      "showland": true,
                      "subunitcolor": "#506784"
                    },
                    "hoverlabel": {
                      "align": "left"
                    },
                    "hovermode": "closest",
                    "mapbox": {
                      "style": "dark"
                    },
                    "paper_bgcolor": "rgb(17,17,17)",
                    "plot_bgcolor": "rgb(17,17,17)",
                    "polar": {
                      "angularaxis": {
                        "gridcolor": "#506784",
                        "linecolor": "#506784",
                        "ticks": ""
                      },
                      "bgcolor": "rgb(17,17,17)",
                      "radialaxis": {
                        "gridcolor": "#506784",
                        "linecolor": "#506784",
                        "ticks": ""
                      }
                    },
                    "scene": {
                      "xaxis": {
                        "backgroundcolor": "rgb(17,17,17)",
                        "gridcolor": "#506784",
                        "gridwidth": 2,
                        "linecolor": "#506784",
                        "showbackground": true,
                        "ticks": "",
                        "zerolinecolor": "#C8D4E3"
                      },
                      "yaxis": {
                        "backgroundcolor": "rgb(17,17,17)",
                        "gridcolor": "#506784",
                        "gridwidth": 2,
                        "linecolor": "#506784",
                        "showbackground": true,
                        "ticks": "",
                        "zerolinecolor": "#C8D4E3"
                      },
                      "zaxis": {
                        "backgroundcolor": "rgb(17,17,17)",
                        "gridcolor": "#506784",
                        "gridwidth": 2,
                        "linecolor": "#506784",
                        "showbackground": true,
                        "ticks": "",
                        "zerolinecolor": "#C8D4E3"
                      }
                    },
                    "shapedefaults": {
                      "line": {
                        "color": "#f2f5fa"
                      }
                    },
                    "sliderdefaults": {
                      "bgcolor": "#C8D4E3",
                      "bordercolor": "rgb(17,17,17)",
                      "borderwidth": 1,
                      "tickwidth": 0
                    },
                    "ternary": {
                      "aaxis": {
                        "gridcolor": "#506784",
                        "linecolor": "#506784",
                        "ticks": ""
                      },
                      "baxis": {
                        "gridcolor": "#506784",
                        "linecolor": "#506784",
                        "ticks": ""
                      },
                      "bgcolor": "rgb(17,17,17)",
                      "caxis": {
                        "gridcolor": "#506784",
                        "linecolor": "#506784",
                        "ticks": ""
                      }
                    },
                    "title": {
                      "x": 0.05
                    },
                    "updatemenudefaults": {
                      "bgcolor": "#506784",
                      "borderwidth": 0
                    },
                    "xaxis": {
                      "automargin": true,
                      "gridcolor": "#283442",
                      "linecolor": "#506784",
                      "ticks": "",
                      "title": {
                        "standoff": 15
                      },
                      "zerolinecolor": "#283442",
                      "zerolinewidth": 2
                    },
                    "yaxis": {
                      "automargin": true,
                      "gridcolor": "#283442",
                      "linecolor": "#506784",
                      "ticks": "",
                      "title": {
                        "standoff": 15
                      },
                      "zerolinecolor": "#283442",
                      "zerolinewidth": 2
                    }
                  }
                },
                "title": {
                  "text": "Top 10 Drama Movies"
                },
                "xaxis": {
                  "anchor": "y",
                  "domain": [
                    0,
                    1
                  ],
                  "title": {
                    "text": "title"
                  }
                },
                "yaxis": {
                  "anchor": "x",
                  "domain": [
                    0,
                    1
                  ],
                  "title": {
                    "text": "count"
                  }
                }
              }
            }
          },
          "metadata": {},
          "output_type": "display_data"
        }
      ],
      "source": [
        "ask('show me top 10  drama movies, drama is a category')"
      ]
    },
    {
      "cell_type": "code",
      "execution_count": 19,
      "id": "84c80725",
      "metadata": {},
      "outputs": [
        {
          "name": "stderr",
          "output_type": "stream",
          "text": [
            "Number of requested results 10 is greater than number of elements in index 6, updating n_results = 6\n"
          ]
        },
        {
          "name": "stdout",
          "output_type": "stream",
          "text": [
            "Using model gpt-4o-mini for 2576.0 tokens (approx)\n"
          ]
        },
        {
          "name": "stderr",
          "output_type": "stream",
          "text": [
            "Insert of existing embedding ID: d96d2274-66f4-57bb-a0bc-18755ef7c9c7-sql\n",
            "Add of existing embedding ID: d96d2274-66f4-57bb-a0bc-18755ef7c9c7-sql\n"
          ]
        },
        {
          "name": "stdout",
          "output_type": "stream",
          "text": [
            "Extracted SQL: SELECT title\n",
            "FROM film_list\n",
            "WHERE category = 'Drama'\n",
            "LIMIT 10;\n",
            "\n",
            " \n",
            "============\n",
            "query: \n",
            " SELECT title\n",
            "FROM film_list\n",
            "WHERE category = 'Drama'\n",
            "LIMIT 10;\n",
            "-----------\n",
            "result: \n",
            "                  title\n",
            "0          Apollo Teen\n",
            "1        Beauty Grease\n",
            "2   Beethoven Exorcist\n",
            "3         Blade Polish\n",
            "4    Bright Encounters\n",
            "5          Bunch Minds\n",
            "6           Chill Luck\n",
            "7          Chitty Lock\n",
            "8    Coneheads Smoochy\n",
            "9  Confessions Maguire\n",
            "============\n",
            "<function system_message at 0x000001FC5ECE9260>\n",
            "Using model gpt-3.5-turbo for 171.75 tokens (approx)\n"
          ]
        },
        {
          "data": {
            "application/vnd.plotly.v1+json": {
              "config": {
                "plotlyServerURL": "https://plot.ly"
              },
              "data": [
                {
                  "alignmentgroup": "True",
                  "hovertemplate": "title=%{x}<br>count=%{y}<extra></extra>",
                  "legendgroup": "",
                  "marker": {
                    "color": "#636efa",
                    "pattern": {
                      "shape": ""
                    }
                  },
                  "name": "",
                  "offsetgroup": "",
                  "orientation": "v",
                  "showlegend": false,
                  "textposition": "auto",
                  "type": "bar",
                  "x": [
                    "Apollo Teen",
                    "Beauty Grease",
                    "Beethoven Exorcist",
                    "Blade Polish",
                    "Bright Encounters",
                    "Bunch Minds",
                    "Chill Luck",
                    "Chitty Lock",
                    "Coneheads Smoochy",
                    "Confessions Maguire"
                  ],
                  "xaxis": "x",
                  "y": [
                    1,
                    1,
                    1,
                    1,
                    1,
                    1,
                    1,
                    1,
                    1,
                    1
                  ],
                  "yaxis": "y"
                }
              ],
              "layout": {
                "barmode": "relative",
                "legend": {
                  "tracegroupgap": 0
                },
                "template": {
                  "data": {
                    "bar": [
                      {
                        "error_x": {
                          "color": "#f2f5fa"
                        },
                        "error_y": {
                          "color": "#f2f5fa"
                        },
                        "marker": {
                          "line": {
                            "color": "rgb(17,17,17)",
                            "width": 0.5
                          },
                          "pattern": {
                            "fillmode": "overlay",
                            "size": 10,
                            "solidity": 0.2
                          }
                        },
                        "type": "bar"
                      }
                    ],
                    "barpolar": [
                      {
                        "marker": {
                          "line": {
                            "color": "rgb(17,17,17)",
                            "width": 0.5
                          },
                          "pattern": {
                            "fillmode": "overlay",
                            "size": 10,
                            "solidity": 0.2
                          }
                        },
                        "type": "barpolar"
                      }
                    ],
                    "carpet": [
                      {
                        "aaxis": {
                          "endlinecolor": "#A2B1C6",
                          "gridcolor": "#506784",
                          "linecolor": "#506784",
                          "minorgridcolor": "#506784",
                          "startlinecolor": "#A2B1C6"
                        },
                        "baxis": {
                          "endlinecolor": "#A2B1C6",
                          "gridcolor": "#506784",
                          "linecolor": "#506784",
                          "minorgridcolor": "#506784",
                          "startlinecolor": "#A2B1C6"
                        },
                        "type": "carpet"
                      }
                    ],
                    "choropleth": [
                      {
                        "colorbar": {
                          "outlinewidth": 0,
                          "ticks": ""
                        },
                        "type": "choropleth"
                      }
                    ],
                    "contour": [
                      {
                        "colorbar": {
                          "outlinewidth": 0,
                          "ticks": ""
                        },
                        "colorscale": [
                          [
                            0,
                            "#0d0887"
                          ],
                          [
                            0.1111111111111111,
                            "#46039f"
                          ],
                          [
                            0.2222222222222222,
                            "#7201a8"
                          ],
                          [
                            0.3333333333333333,
                            "#9c179e"
                          ],
                          [
                            0.4444444444444444,
                            "#bd3786"
                          ],
                          [
                            0.5555555555555556,
                            "#d8576b"
                          ],
                          [
                            0.6666666666666666,
                            "#ed7953"
                          ],
                          [
                            0.7777777777777778,
                            "#fb9f3a"
                          ],
                          [
                            0.8888888888888888,
                            "#fdca26"
                          ],
                          [
                            1,
                            "#f0f921"
                          ]
                        ],
                        "type": "contour"
                      }
                    ],
                    "contourcarpet": [
                      {
                        "colorbar": {
                          "outlinewidth": 0,
                          "ticks": ""
                        },
                        "type": "contourcarpet"
                      }
                    ],
                    "heatmap": [
                      {
                        "colorbar": {
                          "outlinewidth": 0,
                          "ticks": ""
                        },
                        "colorscale": [
                          [
                            0,
                            "#0d0887"
                          ],
                          [
                            0.1111111111111111,
                            "#46039f"
                          ],
                          [
                            0.2222222222222222,
                            "#7201a8"
                          ],
                          [
                            0.3333333333333333,
                            "#9c179e"
                          ],
                          [
                            0.4444444444444444,
                            "#bd3786"
                          ],
                          [
                            0.5555555555555556,
                            "#d8576b"
                          ],
                          [
                            0.6666666666666666,
                            "#ed7953"
                          ],
                          [
                            0.7777777777777778,
                            "#fb9f3a"
                          ],
                          [
                            0.8888888888888888,
                            "#fdca26"
                          ],
                          [
                            1,
                            "#f0f921"
                          ]
                        ],
                        "type": "heatmap"
                      }
                    ],
                    "heatmapgl": [
                      {
                        "colorbar": {
                          "outlinewidth": 0,
                          "ticks": ""
                        },
                        "colorscale": [
                          [
                            0,
                            "#0d0887"
                          ],
                          [
                            0.1111111111111111,
                            "#46039f"
                          ],
                          [
                            0.2222222222222222,
                            "#7201a8"
                          ],
                          [
                            0.3333333333333333,
                            "#9c179e"
                          ],
                          [
                            0.4444444444444444,
                            "#bd3786"
                          ],
                          [
                            0.5555555555555556,
                            "#d8576b"
                          ],
                          [
                            0.6666666666666666,
                            "#ed7953"
                          ],
                          [
                            0.7777777777777778,
                            "#fb9f3a"
                          ],
                          [
                            0.8888888888888888,
                            "#fdca26"
                          ],
                          [
                            1,
                            "#f0f921"
                          ]
                        ],
                        "type": "heatmapgl"
                      }
                    ],
                    "histogram": [
                      {
                        "marker": {
                          "pattern": {
                            "fillmode": "overlay",
                            "size": 10,
                            "solidity": 0.2
                          }
                        },
                        "type": "histogram"
                      }
                    ],
                    "histogram2d": [
                      {
                        "colorbar": {
                          "outlinewidth": 0,
                          "ticks": ""
                        },
                        "colorscale": [
                          [
                            0,
                            "#0d0887"
                          ],
                          [
                            0.1111111111111111,
                            "#46039f"
                          ],
                          [
                            0.2222222222222222,
                            "#7201a8"
                          ],
                          [
                            0.3333333333333333,
                            "#9c179e"
                          ],
                          [
                            0.4444444444444444,
                            "#bd3786"
                          ],
                          [
                            0.5555555555555556,
                            "#d8576b"
                          ],
                          [
                            0.6666666666666666,
                            "#ed7953"
                          ],
                          [
                            0.7777777777777778,
                            "#fb9f3a"
                          ],
                          [
                            0.8888888888888888,
                            "#fdca26"
                          ],
                          [
                            1,
                            "#f0f921"
                          ]
                        ],
                        "type": "histogram2d"
                      }
                    ],
                    "histogram2dcontour": [
                      {
                        "colorbar": {
                          "outlinewidth": 0,
                          "ticks": ""
                        },
                        "colorscale": [
                          [
                            0,
                            "#0d0887"
                          ],
                          [
                            0.1111111111111111,
                            "#46039f"
                          ],
                          [
                            0.2222222222222222,
                            "#7201a8"
                          ],
                          [
                            0.3333333333333333,
                            "#9c179e"
                          ],
                          [
                            0.4444444444444444,
                            "#bd3786"
                          ],
                          [
                            0.5555555555555556,
                            "#d8576b"
                          ],
                          [
                            0.6666666666666666,
                            "#ed7953"
                          ],
                          [
                            0.7777777777777778,
                            "#fb9f3a"
                          ],
                          [
                            0.8888888888888888,
                            "#fdca26"
                          ],
                          [
                            1,
                            "#f0f921"
                          ]
                        ],
                        "type": "histogram2dcontour"
                      }
                    ],
                    "mesh3d": [
                      {
                        "colorbar": {
                          "outlinewidth": 0,
                          "ticks": ""
                        },
                        "type": "mesh3d"
                      }
                    ],
                    "parcoords": [
                      {
                        "line": {
                          "colorbar": {
                            "outlinewidth": 0,
                            "ticks": ""
                          }
                        },
                        "type": "parcoords"
                      }
                    ],
                    "pie": [
                      {
                        "automargin": true,
                        "type": "pie"
                      }
                    ],
                    "scatter": [
                      {
                        "marker": {
                          "line": {
                            "color": "#283442"
                          }
                        },
                        "type": "scatter"
                      }
                    ],
                    "scatter3d": [
                      {
                        "line": {
                          "colorbar": {
                            "outlinewidth": 0,
                            "ticks": ""
                          }
                        },
                        "marker": {
                          "colorbar": {
                            "outlinewidth": 0,
                            "ticks": ""
                          }
                        },
                        "type": "scatter3d"
                      }
                    ],
                    "scattercarpet": [
                      {
                        "marker": {
                          "colorbar": {
                            "outlinewidth": 0,
                            "ticks": ""
                          }
                        },
                        "type": "scattercarpet"
                      }
                    ],
                    "scattergeo": [
                      {
                        "marker": {
                          "colorbar": {
                            "outlinewidth": 0,
                            "ticks": ""
                          }
                        },
                        "type": "scattergeo"
                      }
                    ],
                    "scattergl": [
                      {
                        "marker": {
                          "line": {
                            "color": "#283442"
                          }
                        },
                        "type": "scattergl"
                      }
                    ],
                    "scattermapbox": [
                      {
                        "marker": {
                          "colorbar": {
                            "outlinewidth": 0,
                            "ticks": ""
                          }
                        },
                        "type": "scattermapbox"
                      }
                    ],
                    "scatterpolar": [
                      {
                        "marker": {
                          "colorbar": {
                            "outlinewidth": 0,
                            "ticks": ""
                          }
                        },
                        "type": "scatterpolar"
                      }
                    ],
                    "scatterpolargl": [
                      {
                        "marker": {
                          "colorbar": {
                            "outlinewidth": 0,
                            "ticks": ""
                          }
                        },
                        "type": "scatterpolargl"
                      }
                    ],
                    "scatterternary": [
                      {
                        "marker": {
                          "colorbar": {
                            "outlinewidth": 0,
                            "ticks": ""
                          }
                        },
                        "type": "scatterternary"
                      }
                    ],
                    "surface": [
                      {
                        "colorbar": {
                          "outlinewidth": 0,
                          "ticks": ""
                        },
                        "colorscale": [
                          [
                            0,
                            "#0d0887"
                          ],
                          [
                            0.1111111111111111,
                            "#46039f"
                          ],
                          [
                            0.2222222222222222,
                            "#7201a8"
                          ],
                          [
                            0.3333333333333333,
                            "#9c179e"
                          ],
                          [
                            0.4444444444444444,
                            "#bd3786"
                          ],
                          [
                            0.5555555555555556,
                            "#d8576b"
                          ],
                          [
                            0.6666666666666666,
                            "#ed7953"
                          ],
                          [
                            0.7777777777777778,
                            "#fb9f3a"
                          ],
                          [
                            0.8888888888888888,
                            "#fdca26"
                          ],
                          [
                            1,
                            "#f0f921"
                          ]
                        ],
                        "type": "surface"
                      }
                    ],
                    "table": [
                      {
                        "cells": {
                          "fill": {
                            "color": "#506784"
                          },
                          "line": {
                            "color": "rgb(17,17,17)"
                          }
                        },
                        "header": {
                          "fill": {
                            "color": "#2a3f5f"
                          },
                          "line": {
                            "color": "rgb(17,17,17)"
                          }
                        },
                        "type": "table"
                      }
                    ]
                  },
                  "layout": {
                    "annotationdefaults": {
                      "arrowcolor": "#f2f5fa",
                      "arrowhead": 0,
                      "arrowwidth": 1
                    },
                    "autotypenumbers": "strict",
                    "coloraxis": {
                      "colorbar": {
                        "outlinewidth": 0,
                        "ticks": ""
                      }
                    },
                    "colorscale": {
                      "diverging": [
                        [
                          0,
                          "#8e0152"
                        ],
                        [
                          0.1,
                          "#c51b7d"
                        ],
                        [
                          0.2,
                          "#de77ae"
                        ],
                        [
                          0.3,
                          "#f1b6da"
                        ],
                        [
                          0.4,
                          "#fde0ef"
                        ],
                        [
                          0.5,
                          "#f7f7f7"
                        ],
                        [
                          0.6,
                          "#e6f5d0"
                        ],
                        [
                          0.7,
                          "#b8e186"
                        ],
                        [
                          0.8,
                          "#7fbc41"
                        ],
                        [
                          0.9,
                          "#4d9221"
                        ],
                        [
                          1,
                          "#276419"
                        ]
                      ],
                      "sequential": [
                        [
                          0,
                          "#0d0887"
                        ],
                        [
                          0.1111111111111111,
                          "#46039f"
                        ],
                        [
                          0.2222222222222222,
                          "#7201a8"
                        ],
                        [
                          0.3333333333333333,
                          "#9c179e"
                        ],
                        [
                          0.4444444444444444,
                          "#bd3786"
                        ],
                        [
                          0.5555555555555556,
                          "#d8576b"
                        ],
                        [
                          0.6666666666666666,
                          "#ed7953"
                        ],
                        [
                          0.7777777777777778,
                          "#fb9f3a"
                        ],
                        [
                          0.8888888888888888,
                          "#fdca26"
                        ],
                        [
                          1,
                          "#f0f921"
                        ]
                      ],
                      "sequentialminus": [
                        [
                          0,
                          "#0d0887"
                        ],
                        [
                          0.1111111111111111,
                          "#46039f"
                        ],
                        [
                          0.2222222222222222,
                          "#7201a8"
                        ],
                        [
                          0.3333333333333333,
                          "#9c179e"
                        ],
                        [
                          0.4444444444444444,
                          "#bd3786"
                        ],
                        [
                          0.5555555555555556,
                          "#d8576b"
                        ],
                        [
                          0.6666666666666666,
                          "#ed7953"
                        ],
                        [
                          0.7777777777777778,
                          "#fb9f3a"
                        ],
                        [
                          0.8888888888888888,
                          "#fdca26"
                        ],
                        [
                          1,
                          "#f0f921"
                        ]
                      ]
                    },
                    "colorway": [
                      "#636efa",
                      "#EF553B",
                      "#00cc96",
                      "#ab63fa",
                      "#FFA15A",
                      "#19d3f3",
                      "#FF6692",
                      "#B6E880",
                      "#FF97FF",
                      "#FECB52"
                    ],
                    "font": {
                      "color": "#f2f5fa"
                    },
                    "geo": {
                      "bgcolor": "rgb(17,17,17)",
                      "lakecolor": "rgb(17,17,17)",
                      "landcolor": "rgb(17,17,17)",
                      "showlakes": true,
                      "showland": true,
                      "subunitcolor": "#506784"
                    },
                    "hoverlabel": {
                      "align": "left"
                    },
                    "hovermode": "closest",
                    "mapbox": {
                      "style": "dark"
                    },
                    "paper_bgcolor": "rgb(17,17,17)",
                    "plot_bgcolor": "rgb(17,17,17)",
                    "polar": {
                      "angularaxis": {
                        "gridcolor": "#506784",
                        "linecolor": "#506784",
                        "ticks": ""
                      },
                      "bgcolor": "rgb(17,17,17)",
                      "radialaxis": {
                        "gridcolor": "#506784",
                        "linecolor": "#506784",
                        "ticks": ""
                      }
                    },
                    "scene": {
                      "xaxis": {
                        "backgroundcolor": "rgb(17,17,17)",
                        "gridcolor": "#506784",
                        "gridwidth": 2,
                        "linecolor": "#506784",
                        "showbackground": true,
                        "ticks": "",
                        "zerolinecolor": "#C8D4E3"
                      },
                      "yaxis": {
                        "backgroundcolor": "rgb(17,17,17)",
                        "gridcolor": "#506784",
                        "gridwidth": 2,
                        "linecolor": "#506784",
                        "showbackground": true,
                        "ticks": "",
                        "zerolinecolor": "#C8D4E3"
                      },
                      "zaxis": {
                        "backgroundcolor": "rgb(17,17,17)",
                        "gridcolor": "#506784",
                        "gridwidth": 2,
                        "linecolor": "#506784",
                        "showbackground": true,
                        "ticks": "",
                        "zerolinecolor": "#C8D4E3"
                      }
                    },
                    "shapedefaults": {
                      "line": {
                        "color": "#f2f5fa"
                      }
                    },
                    "sliderdefaults": {
                      "bgcolor": "#C8D4E3",
                      "bordercolor": "rgb(17,17,17)",
                      "borderwidth": 1,
                      "tickwidth": 0
                    },
                    "ternary": {
                      "aaxis": {
                        "gridcolor": "#506784",
                        "linecolor": "#506784",
                        "ticks": ""
                      },
                      "baxis": {
                        "gridcolor": "#506784",
                        "linecolor": "#506784",
                        "ticks": ""
                      },
                      "bgcolor": "rgb(17,17,17)",
                      "caxis": {
                        "gridcolor": "#506784",
                        "linecolor": "#506784",
                        "ticks": ""
                      }
                    },
                    "title": {
                      "x": 0.05
                    },
                    "updatemenudefaults": {
                      "bgcolor": "#506784",
                      "borderwidth": 0
                    },
                    "xaxis": {
                      "automargin": true,
                      "gridcolor": "#283442",
                      "linecolor": "#506784",
                      "ticks": "",
                      "title": {
                        "standoff": 15
                      },
                      "zerolinecolor": "#283442",
                      "zerolinewidth": 2
                    },
                    "yaxis": {
                      "automargin": true,
                      "gridcolor": "#283442",
                      "linecolor": "#506784",
                      "ticks": "",
                      "title": {
                        "standoff": 15
                      },
                      "zerolinecolor": "#283442",
                      "zerolinewidth": 2
                    }
                  }
                },
                "title": {
                  "text": "Top 10 Drama Movies"
                },
                "xaxis": {
                  "anchor": "y",
                  "domain": [
                    0,
                    1
                  ],
                  "title": {
                    "text": "title"
                  }
                },
                "yaxis": {
                  "anchor": "x",
                  "domain": [
                    0,
                    1
                  ],
                  "title": {
                    "text": "count"
                  }
                }
              }
            }
          },
          "metadata": {},
          "output_type": "display_data"
        }
      ],
      "source": [
        "ask('show me top 10  drama movies, drama is a category')"
      ]
    },
    {
      "cell_type": "markdown",
      "id": "86f70f83",
      "metadata": {},
      "source": [
        "### generate Questions "
      ]
    },
    {
      "cell_type": "code",
      "execution_count": 20,
      "id": "b87d140b-ef56-5795-b489-46bb11d01459",
      "metadata": {
        "id": "b87d140b-ef56-5795-b489-46bb11d01459"
      },
      "outputs": [],
      "source": [
        "from typing import List\n",
        "\n",
        "\n",
        "\n",
        "\n",
        "\n",
        "def _response_language(language=None) -> str:\n",
        "    if language is None:\n",
        "        return \"\"\n",
        "\n",
        "    return f\"Respond in the {language} language.\"\n",
        "\n",
        "\n",
        "def generate_db_questions(\n",
        "    question: str, sql: str, df: pd.DataFrame, n_questions: int = 5, **kwargs\n",
        ") -> list:\n",
        "    \"\"\"\n",
        "    **Example:**\n",
        "    ```python\n",
        "    vn.generate_followup_questions(\"What are the top 10 customers by sales?\", sql, df)\n",
        "    ```\n",
        "\n",
        "    Generate a list of followup questions that you can ask Vanna.AI.\n",
        "\n",
        "    Args:\n",
        "        question (str): The question that was asked.\n",
        "        sql (str): The LLM-generated SQL query.\n",
        "        df (pd.DataFrame): The results of the SQL query.\n",
        "        n_questions (int): Number of follow-up questions to generate.\n",
        "\n",
        "    Returns:\n",
        "        list: A list of followup questions that you can ask Vanna.AI.\n",
        "    \"\"\"\n",
        "\n",
        "    message_log = [\n",
        "        system_message(\n",
        "            f\"You are a helpful data assistant. The user asked the question: '{question}'\\n\\nThe SQL query for this question was: {sql}\\n\\nThe following is a pandas DataFrame with the results of the query: \\n{df.to_markdown()}\\n\\n\"\n",
        "        ),\n",
        "        user_message(\n",
        "            f\"Generate a list of {n_questions} followup questions that the user might ask about this data. Respond with a list of questions, one per line. Do not answer with any explanations -- just the questions. Remember that there should be an unambiguous SQL query that can be generated from the question. Prefer questions that are answerable outside of the context of this conversation. Prefer questions that are slight modifications of the SQL query that was generated that allow digging deeper into the data. Each question will be turned into a button that the user can click to generate a new SQL query so don't use 'example' type questions. Each question must have a one-to-one correspondence with an instantiated SQL query.\" +\n",
        "            _response_language()\n",
        "        ),\n",
        "    ]\n",
        "\n",
        "    llm_response = submit_prompt(message_log, **kwargs)\n",
        "\n",
        "    numbers_removed = re.sub(r\"^\\d+\\.\\s*\", \"\", llm_response, flags=re.MULTILINE)\n",
        "    return numbers_removed.split(\"\\n\")\n",
        "\n",
        "def generate_followup_questions(\n",
        "    question: str, sql: str, df: pd.DataFrame, n_questions: int = 5, **kwargs\n",
        ") -> list:\n",
        "    \"\"\"\n",
        "    **Example:**\n",
        "    ```python\n",
        "    vn.generate_followup_questions(\"What are the top 10 customers by sales?\", sql, df)\n",
        "    ```\n",
        "\n",
        "    Generate a list of followup questions that you can ask Vanna.AI.\n",
        "\n",
        "    Args:\n",
        "        question (str): The question that was asked.\n",
        "        sql (str): The LLM-generated SQL query.\n",
        "        df (pd.DataFrame): The results of the SQL query.\n",
        "        n_questions (int): Number of follow-up questions to generate.\n",
        "\n",
        "    Returns:\n",
        "        list: A list of followup questions that you can ask Vanna.AI.\n",
        "    \"\"\"\n",
        "\n",
        "    message_log = [\n",
        "        system_message(\n",
        "            f\"You are a helpful data assistant. The user asked the question: '{question}'\\n\\nThe SQL query for this question was: {sql}\\n\\nThe following is a pandas DataFrame with the results of the query: \\n{df.to_markdown()}\\n\\n\"\n",
        "        ),\n",
        "        user_message(\n",
        "            f\"Generate a list of {n_questions} followup questions that the user might ask about this data. Respond with a list of questions, one per line. Do not answer with any explanations -- just the questions. Remember that there should be an unambiguous SQL query that can be generated from the question. Prefer questions that are answerable outside of the context of this conversation. Prefer questions that are slight modifications of the SQL query that was generated that allow digging deeper into the data. Each question will be turned into a button that the user can click to generate a new SQL query so don't use 'example' type questions. Each question must have a one-to-one correspondence with an instantiated SQL query.\" +\n",
        "            _response_language()\n",
        "        ),\n",
        "    ]\n",
        "\n",
        "    llm_response = submit_prompt(message_log, **kwargs)\n",
        "\n",
        "    numbers_removed = re.sub(r\"^\\d+\\.\\s*\", \"\", llm_response, flags=re.MULTILINE)\n",
        "    return numbers_removed.split(\"\\n\")\n"
      ]
    }
  ],
  "metadata": {
    "colab": {
      "provenance": []
    },
    "kernelspec": {
      "display_name": "Python 3",
      "language": "python",
      "name": "python3"
    },
    "language_info": {
      "codemirror_mode": {
        "name": "ipython",
        "version": 3
      },
      "file_extension": ".py",
      "mimetype": "text/x-python",
      "name": "python",
      "nbconvert_exporter": "python",
      "pygments_lexer": "ipython3",
      "version": "3.12.4"
    }
  },
  "nbformat": 4,
  "nbformat_minor": 5
}
